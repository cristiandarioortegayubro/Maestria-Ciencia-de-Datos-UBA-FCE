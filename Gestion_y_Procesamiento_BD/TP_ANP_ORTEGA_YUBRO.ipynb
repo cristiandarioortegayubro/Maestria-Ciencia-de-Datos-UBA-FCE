{
  "nbformat": 4,
  "nbformat_minor": 0,
  "metadata": {
    "colab": {
      "name": "TP_ANP_ORTEGA_YUBRO.ipynb",
      "provenance": [],
      "toc_visible": true,
      "authorship_tag": "ABX9TyPyrcZjPZFT6DoQ7nHBi3GC",
      "include_colab_link": true
    },
    "kernelspec": {
      "name": "python3",
      "display_name": "Python 3"
    },
    "language_info": {
      "name": "python"
    }
  },
  "cells": [
    {
      "cell_type": "markdown",
      "metadata": {
        "id": "view-in-github",
        "colab_type": "text"
      },
      "source": [
        "<a href=\"https://colab.research.google.com/github/cristiandarioortegayubro/Maestria-Ciencia-de-Datos-UBA-FCE/blob/main/Gestion_y_Procesamiento_BD/TP_ANP_ORTEGA_YUBRO.ipynb\" target=\"_parent\"><img src=\"https://colab.research.google.com/assets/colab-badge.svg\" alt=\"Open In Colab\"/></a>"
      ]
    },
    {
      "cell_type": "markdown",
      "metadata": {
        "id": "_ELqYwNZ-RuF"
      },
      "source": [
        "<center>\n",
        "\n",
        "![Logo ENAP.png](data:image/png;base64,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)\n",
        "\n",
        "#### Maestría en Métodos Cuantitativos para la Gestión y Análisis de Datos en Organizaciones"
      ]
    },
    {
      "cell_type": "markdown",
      "metadata": {
        "id": "l4G52vM0-fIZ"
      },
      "source": [
        "#### Gestión y Procesamiento de Base de datos y Nociones de Auditoría no Presencial - **TPANP**\n"
      ]
    },
    {
      "cell_type": "markdown",
      "metadata": {
        "id": "oc37qv6c-kds"
      },
      "source": [
        "- Carolina CASTRO\n",
        "\n",
        "```\n",
        "Maestrando: Cristian Darío ORTEGA YUBRO\n",
        "```\n"
      ]
    },
    {
      "cell_type": "markdown",
      "metadata": {
        "id": "UQ7EZGMK-pIt"
      },
      "source": [
        "### Conjunto de Datos"
      ]
    },
    {
      "cell_type": "code",
      "metadata": {
        "id": "WTeeVlYV-MG2"
      },
      "source": [
        "url = \"https://raw.githubusercontent.com/cristiandarioortegayubro/Maestria-Ciencia-de-Datos-UBA-FCE/main/Gestion_y_Procesamiento_BD/\""
      ],
      "execution_count": 1,
      "outputs": []
    },
    {
      "cell_type": "code",
      "metadata": {
        "id": "XBGSek9_-w1N"
      },
      "source": [
        "archivo = \"bank-full.csv\""
      ],
      "execution_count": 2,
      "outputs": []
    },
    {
      "cell_type": "markdown",
      "metadata": {
        "id": "GxKcV27sGR2q"
      },
      "source": [
        "[Moro et al., 2011] S. Moro, R. Laureano and P. Cortez. Using Data Mining for Bank Direct Marketing: An Application of the CRISP-DM Methodology. \n",
        "  In P. Novais et al. (Eds.), Proceedings of the European Simulation and Modelling Conference - ESM'2011, pp. 117-121, Guimarães, Portugal, October, 2011. EUROSIS."
      ]
    },
    {
      "cell_type": "markdown",
      "metadata": {
        "id": "9g3rCOB2-0Br"
      },
      "source": [
        "### Creación y visualizacion del DataFrame"
      ]
    },
    {
      "cell_type": "code",
      "metadata": {
        "id": "OzmBRqlh-1u7"
      },
      "source": [
        "import pandas as pd\n",
        "import numpy as np\n",
        "import plotly.express as px"
      ],
      "execution_count": 3,
      "outputs": []
    },
    {
      "cell_type": "code",
      "metadata": {
        "id": "GRHCzy29_Ak-"
      },
      "source": [
        "bankfull = pd.read_csv(url+archivo)"
      ],
      "execution_count": 4,
      "outputs": []
    },
    {
      "cell_type": "code",
      "metadata": {
        "colab": {
          "base_uri": "https://localhost:8080/",
          "height": 193
        },
        "id": "B6yLGErk_N3I",
        "outputId": "1ef9871c-4156-487c-c83b-b17108280e4a"
      },
      "source": [
        "bankfull.head(4)"
      ],
      "execution_count": 5,
      "outputs": [
        {
          "output_type": "execute_result",
          "data": {
            "text/html": [
              "<div>\n",
              "<style scoped>\n",
              "    .dataframe tbody tr th:only-of-type {\n",
              "        vertical-align: middle;\n",
              "    }\n",
              "\n",
              "    .dataframe tbody tr th {\n",
              "        vertical-align: top;\n",
              "    }\n",
              "\n",
              "    .dataframe thead th {\n",
              "        text-align: right;\n",
              "    }\n",
              "</style>\n",
              "<table border=\"1\" class=\"dataframe\">\n",
              "  <thead>\n",
              "    <tr style=\"text-align: right;\">\n",
              "      <th></th>\n",
              "      <th>age</th>\n",
              "      <th>job</th>\n",
              "      <th>marital</th>\n",
              "      <th>education</th>\n",
              "      <th>default</th>\n",
              "      <th>balance</th>\n",
              "      <th>housing</th>\n",
              "      <th>loan</th>\n",
              "      <th>contact</th>\n",
              "      <th>day</th>\n",
              "      <th>month</th>\n",
              "      <th>duration</th>\n",
              "      <th>campaign</th>\n",
              "      <th>pdays</th>\n",
              "      <th>previous</th>\n",
              "      <th>poutcome</th>\n",
              "      <th>y</th>\n",
              "    </tr>\n",
              "  </thead>\n",
              "  <tbody>\n",
              "    <tr>\n",
              "      <th>0</th>\n",
              "      <td>58</td>\n",
              "      <td>management</td>\n",
              "      <td>married</td>\n",
              "      <td>tertiary</td>\n",
              "      <td>no</td>\n",
              "      <td>2143</td>\n",
              "      <td>yes</td>\n",
              "      <td>no</td>\n",
              "      <td>unknown</td>\n",
              "      <td>5</td>\n",
              "      <td>may</td>\n",
              "      <td>261</td>\n",
              "      <td>1</td>\n",
              "      <td>-1</td>\n",
              "      <td>0</td>\n",
              "      <td>unknown</td>\n",
              "      <td>no</td>\n",
              "    </tr>\n",
              "    <tr>\n",
              "      <th>1</th>\n",
              "      <td>44</td>\n",
              "      <td>technician</td>\n",
              "      <td>single</td>\n",
              "      <td>secondary</td>\n",
              "      <td>no</td>\n",
              "      <td>29</td>\n",
              "      <td>yes</td>\n",
              "      <td>no</td>\n",
              "      <td>unknown</td>\n",
              "      <td>5</td>\n",
              "      <td>may</td>\n",
              "      <td>151</td>\n",
              "      <td>1</td>\n",
              "      <td>-1</td>\n",
              "      <td>0</td>\n",
              "      <td>unknown</td>\n",
              "      <td>no</td>\n",
              "    </tr>\n",
              "    <tr>\n",
              "      <th>2</th>\n",
              "      <td>33</td>\n",
              "      <td>entrepreneur</td>\n",
              "      <td>married</td>\n",
              "      <td>secondary</td>\n",
              "      <td>no</td>\n",
              "      <td>2</td>\n",
              "      <td>yes</td>\n",
              "      <td>yes</td>\n",
              "      <td>unknown</td>\n",
              "      <td>5</td>\n",
              "      <td>may</td>\n",
              "      <td>76</td>\n",
              "      <td>1</td>\n",
              "      <td>-1</td>\n",
              "      <td>0</td>\n",
              "      <td>unknown</td>\n",
              "      <td>no</td>\n",
              "    </tr>\n",
              "    <tr>\n",
              "      <th>3</th>\n",
              "      <td>47</td>\n",
              "      <td>blue-collar</td>\n",
              "      <td>married</td>\n",
              "      <td>unknown</td>\n",
              "      <td>no</td>\n",
              "      <td>1506</td>\n",
              "      <td>yes</td>\n",
              "      <td>no</td>\n",
              "      <td>unknown</td>\n",
              "      <td>5</td>\n",
              "      <td>may</td>\n",
              "      <td>92</td>\n",
              "      <td>1</td>\n",
              "      <td>-1</td>\n",
              "      <td>0</td>\n",
              "      <td>unknown</td>\n",
              "      <td>no</td>\n",
              "    </tr>\n",
              "  </tbody>\n",
              "</table>\n",
              "</div>"
            ],
            "text/plain": [
              "   age           job  marital  education  ... pdays  previous poutcome   y\n",
              "0   58    management  married   tertiary  ...    -1         0  unknown  no\n",
              "1   44    technician   single  secondary  ...    -1         0  unknown  no\n",
              "2   33  entrepreneur  married  secondary  ...    -1         0  unknown  no\n",
              "3   47   blue-collar  married    unknown  ...    -1         0  unknown  no\n",
              "\n",
              "[4 rows x 17 columns]"
            ]
          },
          "metadata": {
            "tags": []
          },
          "execution_count": 5
        }
      ]
    },
    {
      "cell_type": "markdown",
      "metadata": {
        "id": "ixh5-pDQR7tp"
      },
      "source": [
        "### Fase 2 Crisp-DM Conociendo los Datos"
      ]
    },
    {
      "cell_type": "markdown",
      "metadata": {
        "id": "BArpKfMoG8kX"
      },
      "source": [
        "#### Tarea Descripción de los Datos"
      ]
    },
    {
      "cell_type": "code",
      "metadata": {
        "colab": {
          "base_uri": "https://localhost:8080/"
        },
        "id": "dZm7MnkDrXRx",
        "outputId": "14bd661b-7479-4cbb-d235-730c8609f8e8"
      },
      "source": [
        "bankfull.shape"
      ],
      "execution_count": 6,
      "outputs": [
        {
          "output_type": "execute_result",
          "data": {
            "text/plain": [
              "(45211, 17)"
            ]
          },
          "metadata": {
            "tags": []
          },
          "execution_count": 6
        }
      ]
    },
    {
      "cell_type": "markdown",
      "metadata": {
        "id": "vI51wRWjQz3c"
      },
      "source": [
        "- **age**: edad del cliente, valor numérico entero mayor a 18.\n",
        "- **job**: trabajo del cliente.\n",
        "- **marital**: estado civil del cliente.\n",
        "- **education**: educación alcanzada por el cliente.\n",
        "- **default**: si el cliente posee deudas.\n",
        "- **balance**: depósito del cliente en euros.\n",
        "- **housing**: propietario de inmueble o alquila.\n",
        "- **loan**: si el cliente tiene un préstamo.\n",
        "- **contact**: último contacto del cliente.\n",
        "- **day**: día del último contacto del cliente.\n",
        "- **month**: mes del último contacto el cliente.\n",
        "- **duration**: duración del último contacto del cliente.\n",
        "- **campaign**: identificación de la campaña.\n",
        "- **pdays**: dias posteriores a la campaña.\n",
        "- **previous**: números de contactos previos a la campaña.\n",
        "- **poutcome**: resultados de la campaña anterior.\n",
        "- **y**: si suscribe un depósito a plazo posterior a campaña."
      ]
    },
    {
      "cell_type": "markdown",
      "metadata": {
        "id": "wTwFEQFfHSRB"
      },
      "source": [
        "Se procede a agregar una columna en virtud de la inclusión en el registro de la Ley Nº 26.951 (Valores aleatorios)"
      ]
    },
    {
      "cell_type": "code",
      "metadata": {
        "id": "pwkDILUfIMcF"
      },
      "source": [
        "registro = np.random.randint(0,2,45211)"
      ],
      "execution_count": 7,
      "outputs": []
    },
    {
      "cell_type": "code",
      "metadata": {
        "id": "_U-dZNvSOlSO"
      },
      "source": [
        "L26951 = pd.Series(registro)"
      ],
      "execution_count": 8,
      "outputs": []
    },
    {
      "cell_type": "code",
      "metadata": {
        "id": "3bR4Vy39O1Lg"
      },
      "source": [
        "bankfull[\"L26951\"] = L26951"
      ],
      "execution_count": 9,
      "outputs": []
    },
    {
      "cell_type": "code",
      "metadata": {
        "colab": {
          "base_uri": "https://localhost:8080/",
          "height": 193
        },
        "id": "BG3eEsraTwwB",
        "outputId": "edaf7af0-935b-4467-a939-c167b2e8c704"
      },
      "source": [
        "bankfull.head(4)"
      ],
      "execution_count": 10,
      "outputs": [
        {
          "output_type": "execute_result",
          "data": {
            "text/html": [
              "<div>\n",
              "<style scoped>\n",
              "    .dataframe tbody tr th:only-of-type {\n",
              "        vertical-align: middle;\n",
              "    }\n",
              "\n",
              "    .dataframe tbody tr th {\n",
              "        vertical-align: top;\n",
              "    }\n",
              "\n",
              "    .dataframe thead th {\n",
              "        text-align: right;\n",
              "    }\n",
              "</style>\n",
              "<table border=\"1\" class=\"dataframe\">\n",
              "  <thead>\n",
              "    <tr style=\"text-align: right;\">\n",
              "      <th></th>\n",
              "      <th>age</th>\n",
              "      <th>job</th>\n",
              "      <th>marital</th>\n",
              "      <th>education</th>\n",
              "      <th>default</th>\n",
              "      <th>balance</th>\n",
              "      <th>housing</th>\n",
              "      <th>loan</th>\n",
              "      <th>contact</th>\n",
              "      <th>day</th>\n",
              "      <th>month</th>\n",
              "      <th>duration</th>\n",
              "      <th>campaign</th>\n",
              "      <th>pdays</th>\n",
              "      <th>previous</th>\n",
              "      <th>poutcome</th>\n",
              "      <th>y</th>\n",
              "      <th>L26951</th>\n",
              "    </tr>\n",
              "  </thead>\n",
              "  <tbody>\n",
              "    <tr>\n",
              "      <th>0</th>\n",
              "      <td>58</td>\n",
              "      <td>management</td>\n",
              "      <td>married</td>\n",
              "      <td>tertiary</td>\n",
              "      <td>no</td>\n",
              "      <td>2143</td>\n",
              "      <td>yes</td>\n",
              "      <td>no</td>\n",
              "      <td>unknown</td>\n",
              "      <td>5</td>\n",
              "      <td>may</td>\n",
              "      <td>261</td>\n",
              "      <td>1</td>\n",
              "      <td>-1</td>\n",
              "      <td>0</td>\n",
              "      <td>unknown</td>\n",
              "      <td>no</td>\n",
              "      <td>1</td>\n",
              "    </tr>\n",
              "    <tr>\n",
              "      <th>1</th>\n",
              "      <td>44</td>\n",
              "      <td>technician</td>\n",
              "      <td>single</td>\n",
              "      <td>secondary</td>\n",
              "      <td>no</td>\n",
              "      <td>29</td>\n",
              "      <td>yes</td>\n",
              "      <td>no</td>\n",
              "      <td>unknown</td>\n",
              "      <td>5</td>\n",
              "      <td>may</td>\n",
              "      <td>151</td>\n",
              "      <td>1</td>\n",
              "      <td>-1</td>\n",
              "      <td>0</td>\n",
              "      <td>unknown</td>\n",
              "      <td>no</td>\n",
              "      <td>1</td>\n",
              "    </tr>\n",
              "    <tr>\n",
              "      <th>2</th>\n",
              "      <td>33</td>\n",
              "      <td>entrepreneur</td>\n",
              "      <td>married</td>\n",
              "      <td>secondary</td>\n",
              "      <td>no</td>\n",
              "      <td>2</td>\n",
              "      <td>yes</td>\n",
              "      <td>yes</td>\n",
              "      <td>unknown</td>\n",
              "      <td>5</td>\n",
              "      <td>may</td>\n",
              "      <td>76</td>\n",
              "      <td>1</td>\n",
              "      <td>-1</td>\n",
              "      <td>0</td>\n",
              "      <td>unknown</td>\n",
              "      <td>no</td>\n",
              "      <td>0</td>\n",
              "    </tr>\n",
              "    <tr>\n",
              "      <th>3</th>\n",
              "      <td>47</td>\n",
              "      <td>blue-collar</td>\n",
              "      <td>married</td>\n",
              "      <td>unknown</td>\n",
              "      <td>no</td>\n",
              "      <td>1506</td>\n",
              "      <td>yes</td>\n",
              "      <td>no</td>\n",
              "      <td>unknown</td>\n",
              "      <td>5</td>\n",
              "      <td>may</td>\n",
              "      <td>92</td>\n",
              "      <td>1</td>\n",
              "      <td>-1</td>\n",
              "      <td>0</td>\n",
              "      <td>unknown</td>\n",
              "      <td>no</td>\n",
              "      <td>0</td>\n",
              "    </tr>\n",
              "  </tbody>\n",
              "</table>\n",
              "</div>"
            ],
            "text/plain": [
              "   age           job  marital  education  ... previous  poutcome   y L26951\n",
              "0   58    management  married   tertiary  ...        0   unknown  no      1\n",
              "1   44    technician   single  secondary  ...        0   unknown  no      1\n",
              "2   33  entrepreneur  married  secondary  ...        0   unknown  no      0\n",
              "3   47   blue-collar  married    unknown  ...        0   unknown  no      0\n",
              "\n",
              "[4 rows x 18 columns]"
            ]
          },
          "metadata": {
            "tags": []
          },
          "execution_count": 10
        }
      ]
    },
    {
      "cell_type": "markdown",
      "metadata": {
        "id": "oEerarmyBqip"
      },
      "source": [
        "#### Tarea Exploración de los Datos"
      ]
    },
    {
      "cell_type": "markdown",
      "metadata": {
        "id": "YmKIPCAJE3sv"
      },
      "source": [
        "##### Analisis de datos faltantes"
      ]
    },
    {
      "cell_type": "code",
      "metadata": {
        "colab": {
          "base_uri": "https://localhost:8080/"
        },
        "id": "Cql6XQCoBvJ-",
        "outputId": "f804ad0d-9d67-40e3-ca4a-82fbe6de2be6"
      },
      "source": [
        "bankfull.info()"
      ],
      "execution_count": 11,
      "outputs": [
        {
          "output_type": "stream",
          "text": [
            "<class 'pandas.core.frame.DataFrame'>\n",
            "RangeIndex: 45211 entries, 0 to 45210\n",
            "Data columns (total 18 columns):\n",
            " #   Column     Non-Null Count  Dtype \n",
            "---  ------     --------------  ----- \n",
            " 0   age        45211 non-null  int64 \n",
            " 1   job        45211 non-null  object\n",
            " 2   marital    45211 non-null  object\n",
            " 3   education  45211 non-null  object\n",
            " 4   default    45211 non-null  object\n",
            " 5   balance    45211 non-null  int64 \n",
            " 6   housing    45211 non-null  object\n",
            " 7   loan       45211 non-null  object\n",
            " 8   contact    45211 non-null  object\n",
            " 9   day        45211 non-null  int64 \n",
            " 10  month      45211 non-null  object\n",
            " 11  duration   45211 non-null  int64 \n",
            " 12  campaign   45211 non-null  int64 \n",
            " 13  pdays      45211 non-null  int64 \n",
            " 14  previous   45211 non-null  int64 \n",
            " 15  poutcome   45211 non-null  object\n",
            " 16  y          45211 non-null  object\n",
            " 17  L26951     45211 non-null  int64 \n",
            "dtypes: int64(8), object(10)\n",
            "memory usage: 6.2+ MB\n"
          ],
          "name": "stdout"
        }
      ]
    },
    {
      "cell_type": "markdown",
      "metadata": {
        "id": "dUhP1FhgSoIQ"
      },
      "source": [
        "##### Eliminado datos duplicados"
      ]
    },
    {
      "cell_type": "code",
      "metadata": {
        "id": "B8xwnK-CSh2H"
      },
      "source": [
        "bankfull = bankfull.drop_duplicates()"
      ],
      "execution_count": 12,
      "outputs": []
    },
    {
      "cell_type": "code",
      "metadata": {
        "colab": {
          "base_uri": "https://localhost:8080/"
        },
        "id": "-ldMdtqBSxck",
        "outputId": "acf1b5e9-3a92-4e88-d73a-55e249ee5760"
      },
      "source": [
        "bankfull.info()"
      ],
      "execution_count": 13,
      "outputs": [
        {
          "output_type": "stream",
          "text": [
            "<class 'pandas.core.frame.DataFrame'>\n",
            "Int64Index: 45211 entries, 0 to 45210\n",
            "Data columns (total 18 columns):\n",
            " #   Column     Non-Null Count  Dtype \n",
            "---  ------     --------------  ----- \n",
            " 0   age        45211 non-null  int64 \n",
            " 1   job        45211 non-null  object\n",
            " 2   marital    45211 non-null  object\n",
            " 3   education  45211 non-null  object\n",
            " 4   default    45211 non-null  object\n",
            " 5   balance    45211 non-null  int64 \n",
            " 6   housing    45211 non-null  object\n",
            " 7   loan       45211 non-null  object\n",
            " 8   contact    45211 non-null  object\n",
            " 9   day        45211 non-null  int64 \n",
            " 10  month      45211 non-null  object\n",
            " 11  duration   45211 non-null  int64 \n",
            " 12  campaign   45211 non-null  int64 \n",
            " 13  pdays      45211 non-null  int64 \n",
            " 14  previous   45211 non-null  int64 \n",
            " 15  poutcome   45211 non-null  object\n",
            " 16  y          45211 non-null  object\n",
            " 17  L26951     45211 non-null  int64 \n",
            "dtypes: int64(8), object(10)\n",
            "memory usage: 6.6+ MB\n"
          ],
          "name": "stdout"
        }
      ]
    },
    {
      "cell_type": "markdown",
      "metadata": {
        "id": "qRoQUah8jqB2"
      },
      "source": [
        "#### Tarea Verificación de la calidad de los Datos"
      ]
    },
    {
      "cell_type": "code",
      "metadata": {
        "colab": {
          "base_uri": "https://localhost:8080/"
        },
        "id": "zK-KbCuUjx_t",
        "outputId": "dc6959db-bf67-470f-d258-bb3fc2c4bca3"
      },
      "source": [
        "pip install benford_py"
      ],
      "execution_count": 14,
      "outputs": [
        {
          "output_type": "stream",
          "text": [
            "Collecting benford_py\n",
            "  Downloading benford_py-0.5.0-py3-none-any.whl (32 kB)\n",
            "Requirement already satisfied: numpy in /usr/local/lib/python3.7/dist-packages (from benford_py) (1.19.5)\n",
            "Requirement already satisfied: matplotlib in /usr/local/lib/python3.7/dist-packages (from benford_py) (3.2.2)\n",
            "Requirement already satisfied: pandas in /usr/local/lib/python3.7/dist-packages (from benford_py) (1.1.5)\n",
            "Requirement already satisfied: pyparsing!=2.0.4,!=2.1.2,!=2.1.6,>=2.0.1 in /usr/local/lib/python3.7/dist-packages (from matplotlib->benford_py) (2.4.7)\n",
            "Requirement already satisfied: kiwisolver>=1.0.1 in /usr/local/lib/python3.7/dist-packages (from matplotlib->benford_py) (1.3.1)\n",
            "Requirement already satisfied: python-dateutil>=2.1 in /usr/local/lib/python3.7/dist-packages (from matplotlib->benford_py) (2.8.1)\n",
            "Requirement already satisfied: cycler>=0.10 in /usr/local/lib/python3.7/dist-packages (from matplotlib->benford_py) (0.10.0)\n",
            "Requirement already satisfied: six in /usr/local/lib/python3.7/dist-packages (from cycler>=0.10->matplotlib->benford_py) (1.15.0)\n",
            "Requirement already satisfied: pytz>=2017.2 in /usr/local/lib/python3.7/dist-packages (from pandas->benford_py) (2018.9)\n",
            "Installing collected packages: benford-py\n",
            "Successfully installed benford-py-0.5.0\n"
          ],
          "name": "stdout"
        }
      ]
    },
    {
      "cell_type": "code",
      "metadata": {
        "id": "aTBPWbl3j5BT"
      },
      "source": [
        "import benford as bf"
      ],
      "execution_count": 15,
      "outputs": []
    },
    {
      "cell_type": "code",
      "metadata": {
        "colab": {
          "base_uri": "https://localhost:8080/",
          "height": 660
        },
        "id": "0VvdM6YPlZPL",
        "outputId": "9549405f-8924-474a-e0b9-e9a0b7158a54"
      },
      "source": [
        "balance = bf.first_digits(bankfull.balance, digs=1, decimals=0)"
      ],
      "execution_count": 16,
      "outputs": [
        {
          "output_type": "stream",
          "text": [
            "\n",
            "Initialized sequence with 41697 registries.\n",
            "\n",
            "Test performed on 41697 registries.\n",
            "Discarded 0 records < 1 after preparation.\n"
          ],
          "name": "stdout"
        },
        {
          "output_type": "display_data",
          "data": {
            "image/png": "[encoded data removed]",
            "text/plain": [
              "<Figure size 864x648 with 1 Axes>"
            ]
          },
          "metadata": {
            "tags": [],
            "needs_background": "light"
          }
        }
      ]
    },
    {
      "cell_type": "code",
      "metadata": {
        "colab": {
          "base_uri": "https://localhost:8080/",
          "height": 359
        },
        "id": "cBnSbEXAnNDP",
        "outputId": "511104d9-879d-4692-c978-a92875388864"
      },
      "source": [
        "balance"
      ],
      "execution_count": 17,
      "outputs": [
        {
          "output_type": "execute_result",
          "data": {
            "text/html": [
              "<div>\n",
              "<style scoped>\n",
              "    .dataframe tbody tr th:only-of-type {\n",
              "        vertical-align: middle;\n",
              "    }\n",
              "\n",
              "    .dataframe tbody tr th {\n",
              "        vertical-align: top;\n",
              "    }\n",
              "\n",
              "    .dataframe thead th {\n",
              "        text-align: right;\n",
              "    }\n",
              "</style>\n",
              "<table border=\"1\" class=\"dataframe\">\n",
              "  <thead>\n",
              "    <tr style=\"text-align: right;\">\n",
              "      <th></th>\n",
              "      <th>Counts</th>\n",
              "      <th>Found</th>\n",
              "      <th>Expected</th>\n",
              "    </tr>\n",
              "    <tr>\n",
              "      <th>First_1_Dig</th>\n",
              "      <th></th>\n",
              "      <th></th>\n",
              "      <th></th>\n",
              "    </tr>\n",
              "  </thead>\n",
              "  <tbody>\n",
              "    <tr>\n",
              "      <th>1</th>\n",
              "      <td>11974</td>\n",
              "      <td>0.287167</td>\n",
              "      <td>0.301030</td>\n",
              "    </tr>\n",
              "    <tr>\n",
              "      <th>2</th>\n",
              "      <td>7507</td>\n",
              "      <td>0.180037</td>\n",
              "      <td>0.176091</td>\n",
              "    </tr>\n",
              "    <tr>\n",
              "      <th>3</th>\n",
              "      <td>5542</td>\n",
              "      <td>0.132911</td>\n",
              "      <td>0.124939</td>\n",
              "    </tr>\n",
              "    <tr>\n",
              "      <th>4</th>\n",
              "      <td>4169</td>\n",
              "      <td>0.099983</td>\n",
              "      <td>0.096910</td>\n",
              "    </tr>\n",
              "    <tr>\n",
              "      <th>5</th>\n",
              "      <td>3494</td>\n",
              "      <td>0.083795</td>\n",
              "      <td>0.079181</td>\n",
              "    </tr>\n",
              "    <tr>\n",
              "      <th>6</th>\n",
              "      <td>2797</td>\n",
              "      <td>0.067079</td>\n",
              "      <td>0.066947</td>\n",
              "    </tr>\n",
              "    <tr>\n",
              "      <th>7</th>\n",
              "      <td>2324</td>\n",
              "      <td>0.055735</td>\n",
              "      <td>0.057992</td>\n",
              "    </tr>\n",
              "    <tr>\n",
              "      <th>8</th>\n",
              "      <td>2043</td>\n",
              "      <td>0.048996</td>\n",
              "      <td>0.051153</td>\n",
              "    </tr>\n",
              "    <tr>\n",
              "      <th>9</th>\n",
              "      <td>1847</td>\n",
              "      <td>0.044296</td>\n",
              "      <td>0.045757</td>\n",
              "    </tr>\n",
              "  </tbody>\n",
              "</table>\n",
              "</div>"
            ],
            "text/plain": [
              "             Counts     Found  Expected\n",
              "First_1_Dig                            \n",
              "1             11974  0.287167  0.301030\n",
              "2              7507  0.180037  0.176091\n",
              "3              5542  0.132911  0.124939\n",
              "4              4169  0.099983  0.096910\n",
              "5              3494  0.083795  0.079181\n",
              "6              2797  0.067079  0.066947\n",
              "7              2324  0.055735  0.057992\n",
              "8              2043  0.048996  0.051153\n",
              "9              1847  0.044296  0.045757"
            ]
          },
          "metadata": {
            "tags": []
          },
          "execution_count": 17
        }
      ]
    },
    {
      "cell_type": "code",
      "metadata": {
        "colab": {
          "base_uri": "https://localhost:8080/",
          "height": 660
        },
        "id": "c8mnz_J1rBg7",
        "outputId": "1ce52eed-94e5-4733-eff9-9f302c3c9bfa"
      },
      "source": [
        "age = bf.first_digits(bankfull.age, digs=1, decimals=0)"
      ],
      "execution_count": 18,
      "outputs": [
        {
          "output_type": "stream",
          "text": [
            "\n",
            "Initialized sequence with 45211 registries.\n",
            "\n",
            "Test performed on 45211 registries.\n",
            "Discarded 0 records < 1 after preparation.\n"
          ],
          "name": "stdout"
        },
        {
          "output_type": "display_data",
          "data": {
            "image/png": "[encoded data removed]",
            "text/plain": [
              "<Figure size 864x648 with 1 Axes>"
            ]
          },
          "metadata": {
            "tags": [],
            "needs_background": "light"
          }
        }
      ]
    },
    {
      "cell_type": "code",
      "metadata": {
        "colab": {
          "base_uri": "https://localhost:8080/",
          "height": 359
        },
        "id": "n1XADGsGrQQK",
        "outputId": "873e9187-c4b5-4ce4-a60c-9e56abee877e"
      },
      "source": [
        "age"
      ],
      "execution_count": 19,
      "outputs": [
        {
          "output_type": "execute_result",
          "data": {
            "text/html": [
              "<div>\n",
              "<style scoped>\n",
              "    .dataframe tbody tr th:only-of-type {\n",
              "        vertical-align: middle;\n",
              "    }\n",
              "\n",
              "    .dataframe tbody tr th {\n",
              "        vertical-align: top;\n",
              "    }\n",
              "\n",
              "    .dataframe thead th {\n",
              "        text-align: right;\n",
              "    }\n",
              "</style>\n",
              "<table border=\"1\" class=\"dataframe\">\n",
              "  <thead>\n",
              "    <tr style=\"text-align: right;\">\n",
              "      <th></th>\n",
              "      <th>Counts</th>\n",
              "      <th>Found</th>\n",
              "      <th>Expected</th>\n",
              "    </tr>\n",
              "    <tr>\n",
              "      <th>First_1_Dig</th>\n",
              "      <th></th>\n",
              "      <th></th>\n",
              "      <th></th>\n",
              "    </tr>\n",
              "  </thead>\n",
              "  <tbody>\n",
              "    <tr>\n",
              "      <th>1</th>\n",
              "      <td>47</td>\n",
              "      <td>0.001040</td>\n",
              "      <td>0.301030</td>\n",
              "    </tr>\n",
              "    <tr>\n",
              "      <th>2</th>\n",
              "      <td>5226</td>\n",
              "      <td>0.115591</td>\n",
              "      <td>0.176091</td>\n",
              "    </tr>\n",
              "    <tr>\n",
              "      <th>3</th>\n",
              "      <td>18089</td>\n",
              "      <td>0.400102</td>\n",
              "      <td>0.124939</td>\n",
              "    </tr>\n",
              "    <tr>\n",
              "      <th>4</th>\n",
              "      <td>11655</td>\n",
              "      <td>0.257791</td>\n",
              "      <td>0.096910</td>\n",
              "    </tr>\n",
              "    <tr>\n",
              "      <th>5</th>\n",
              "      <td>8410</td>\n",
              "      <td>0.186017</td>\n",
              "      <td>0.079181</td>\n",
              "    </tr>\n",
              "    <tr>\n",
              "      <th>6</th>\n",
              "      <td>1230</td>\n",
              "      <td>0.027206</td>\n",
              "      <td>0.066947</td>\n",
              "    </tr>\n",
              "    <tr>\n",
              "      <th>7</th>\n",
              "      <td>424</td>\n",
              "      <td>0.009378</td>\n",
              "      <td>0.057992</td>\n",
              "    </tr>\n",
              "    <tr>\n",
              "      <th>8</th>\n",
              "      <td>121</td>\n",
              "      <td>0.002676</td>\n",
              "      <td>0.051153</td>\n",
              "    </tr>\n",
              "    <tr>\n",
              "      <th>9</th>\n",
              "      <td>9</td>\n",
              "      <td>0.000199</td>\n",
              "      <td>0.045757</td>\n",
              "    </tr>\n",
              "  </tbody>\n",
              "</table>\n",
              "</div>"
            ],
            "text/plain": [
              "             Counts     Found  Expected\n",
              "First_1_Dig                            \n",
              "1                47  0.001040  0.301030\n",
              "2              5226  0.115591  0.176091\n",
              "3             18089  0.400102  0.124939\n",
              "4             11655  0.257791  0.096910\n",
              "5              8410  0.186017  0.079181\n",
              "6              1230  0.027206  0.066947\n",
              "7               424  0.009378  0.057992\n",
              "8               121  0.002676  0.051153\n",
              "9                 9  0.000199  0.045757"
            ]
          },
          "metadata": {
            "tags": []
          },
          "execution_count": 19
        }
      ]
    },
    {
      "cell_type": "code",
      "metadata": {
        "colab": {
          "base_uri": "https://localhost:8080/",
          "height": 1000
        },
        "id": "8ofNw0W0qTh0",
        "outputId": "803f98a7-e286-47d5-9198-2cf4f7256d0c"
      },
      "source": [
        "mantisa = bf.mantissas(bankfull.balance)"
      ],
      "execution_count": 20,
      "outputs": [
        {
          "output_type": "stream",
          "text": [
            "\n",
            " #################  Mantissas Test  #################\n",
            "\n",
            "The Mantissas MEAN is      0.501293.\tRef: 0.5\n",
            "The Mantissas VARIANCE is  0.081457.\tRef: 0.08333\n",
            "The Mantissas SKEWNESS is  -0.033342.\tRef: 0.0\n",
            "The Mantissas KURTOSIS is  -1.152614.\tRef: -1.2\n",
            "\n",
            "The Kolmogorov-Smirnov statistic for the Mantissas distribution is 0.013988.\n",
            "The critical value for the confidence level of 95% is 0.009405 -- FAIL\n",
            "\n"
          ],
          "name": "stdout"
        },
        {
          "output_type": "display_data",
          "data": {
            "image/png": "[encoded data removed]",
            "text/plain": [
              "<Figure size 864x432 with 1 Axes>"
            ]
          },
          "metadata": {
            "tags": [],
            "needs_background": "light"
          }
        },
        {
          "output_type": "display_data",
          "data": {
            "image/png": "[encoded data removed]",
            "text/plain": [
              "<Figure size 864x864 with 1 Axes>"
            ]
          },
          "metadata": {
            "tags": [],
            "needs_background": "light"
          }
        },
        {
          "output_type": "display_data",
          "data": {
            "image/png": "[encoded data removed]",
            "text/plain": [
              "<Figure size 864x432 with 1 Axes>"
            ]
          },
          "metadata": {
            "tags": [],
            "needs_background": "light"
          }
        },
        {
          "output_type": "display_data",
          "data": {
            "image/png": "[encoded data removed]",
            "text/plain": [
              "<Figure size 864x864 with 1 Axes>"
            ]
          },
          "metadata": {
            "tags": [],
            "needs_background": "light"
          }
        }
      ]
    },
    {
      "cell_type": "markdown",
      "metadata": {
        "id": "HmK9jTJ_VuWY"
      },
      "source": [
        "### Objetivo de Control - Generación del Indice de Flujo de Fondos de los clientes\n"
      ]
    },
    {
      "cell_type": "markdown",
      "metadata": {
        "id": "9X3eQZMbQVYY"
      },
      "source": [
        "La metodología utilizada para crear un Índice de Flujo de Fondos de los clientes consiste en asignar ponderaciones predeterminadas en función del activo o pasivo del cliente del Banco.\n",
        "\n",
        "Por ejemplo, un deposito bancario más alto o la propiedad de una vivienda tendrá una influencia positiva en el índice de activos y, por lo tanto, se le asignará un peso más alto. En cambio, la presencia de un préstamo será un pasivo y, por tanto, tendrá que tener un peso menor. Se le otorga un peso de 3 si el cliente tiene una casa y 1 en su ausencia. Del mismo modo, podemos dar una ponderación de 1 si el cliente tiene un préstamo y de 3 en caso de que no haya préstamos."
      ]
    },
    {
      "cell_type": "code",
      "metadata": {
        "colab": {
          "base_uri": "https://localhost:8080/",
          "height": 204
        },
        "id": "ut0p2PT2V3gO",
        "outputId": "a729ca9d-c4c0-4f4d-cc5c-8ffd0dfb49a8"
      },
      "source": [
        "filter_mask = bankfull[\"loan\"] == \"yes\"\n",
        "bankfullSub0 = bankfull[filter_mask].groupby(\"age\")[\"y\"].agg(total=\"count\").reset_index()\n",
        "bankfullSub0.head()"
      ],
      "execution_count": 21,
      "outputs": [
        {
          "output_type": "execute_result",
          "data": {
            "text/html": [
              "<div>\n",
              "<style scoped>\n",
              "    .dataframe tbody tr th:only-of-type {\n",
              "        vertical-align: middle;\n",
              "    }\n",
              "\n",
              "    .dataframe tbody tr th {\n",
              "        vertical-align: top;\n",
              "    }\n",
              "\n",
              "    .dataframe thead th {\n",
              "        text-align: right;\n",
              "    }\n",
              "</style>\n",
              "<table border=\"1\" class=\"dataframe\">\n",
              "  <thead>\n",
              "    <tr style=\"text-align: right;\">\n",
              "      <th></th>\n",
              "      <th>age</th>\n",
              "      <th>total</th>\n",
              "    </tr>\n",
              "  </thead>\n",
              "  <tbody>\n",
              "    <tr>\n",
              "      <th>0</th>\n",
              "      <td>20</td>\n",
              "      <td>3</td>\n",
              "    </tr>\n",
              "    <tr>\n",
              "      <th>1</th>\n",
              "      <td>21</td>\n",
              "      <td>8</td>\n",
              "    </tr>\n",
              "    <tr>\n",
              "      <th>2</th>\n",
              "      <td>22</td>\n",
              "      <td>12</td>\n",
              "    </tr>\n",
              "    <tr>\n",
              "      <th>3</th>\n",
              "      <td>23</td>\n",
              "      <td>19</td>\n",
              "    </tr>\n",
              "    <tr>\n",
              "      <th>4</th>\n",
              "      <td>24</td>\n",
              "      <td>38</td>\n",
              "    </tr>\n",
              "  </tbody>\n",
              "</table>\n",
              "</div>"
            ],
            "text/plain": [
              "   age  total\n",
              "0   20      3\n",
              "1   21      8\n",
              "2   22     12\n",
              "3   23     19\n",
              "4   24     38"
            ]
          },
          "metadata": {
            "tags": []
          },
          "execution_count": 21
        }
      ]
    },
    {
      "cell_type": "code",
      "metadata": {
        "colab": {
          "base_uri": "https://localhost:8080/",
          "height": 542
        },
        "id": "OyCnwOYIrq1q",
        "outputId": "eb002cca-923e-4dce-a3ef-797c864cc8b4"
      },
      "source": [
        "fig = px.scatter(bankfullSub0, \n",
        "                 x=\"age\", \n",
        "                 y=\"total\", \n",
        "                 title=\"Clientes con prestamos por edad\")\n",
        "fig.show()"
      ],
      "execution_count": 62,
      "outputs": [
        {
          "output_type": "display_data",
          "data": {
            "text/html": [
              "<html>\n",
              "<head><meta charset=\"utf-8\" /></head>\n",
              "<body>\n",
              "    <div>\n",
              "            <script src=\"https://cdnjs.cloudflare.com/ajax/libs/mathjax/2.7.5/MathJax.js?config=TeX-AMS-MML_SVG\"></script><script type=\"text/javascript\">if (window.MathJax) {MathJax.Hub.Config({SVG: {font: \"STIX-Web\"}});}</script>\n",
              "                <script type=\"text/javascript\">window.PlotlyConfig = {MathJaxConfig: 'local'};</script>\n",
              "        <script src=\"https://cdn.plot.ly/plotly-latest.min.js\"></script>    \n",
              "            <div id=\"db704bd2-0e2c-4596-81f0-4453eaacaf9c\" class=\"plotly-graph-div\" style=\"height:525px; width:100%;\"></div>\n",
              "            <script type=\"text/javascript\">\n",
              "                \n",
              "                    window.PLOTLYENV=window.PLOTLYENV || {};\n",
              "                    \n",
              "                if (document.getElementById(\"db704bd2-0e2c-4596-81f0-4453eaacaf9c\")) {\n",
              "                    Plotly.newPlot(\n",
              "                        'db704bd2-0e2c-4596-81f0-4453eaacaf9c',\n",
              "                        [{\"hoverlabel\": {\"namelength\": 0}, \"hovertemplate\": \"age=%{x}<br>total=%{y}\", \"legendgroup\": \"\", \"marker\": {\"color\": \"#636efa\", \"symbol\": \"circle\"}, \"mode\": \"markers\", \"name\": \"\", \"showlegend\": false, \"type\": \"scatter\", \"x\": [20, 21, 22, 23, 24, 25, 26, 27, 28, 29, 30, 31, 32, 33, 34, 35, 36, 37, 38, 39, 40, 41, 42, 43, 44, 45, 46, 47, 48, 49, 50, 51, 52, 53, 54, 55, 56, 57, 58, 59, 60, 61, 62, 64, 65, 66, 71, 72], \"xaxis\": \"x\", \"y\": [3, 8, 12, 19, 38, 99, 161, 167, 187, 197, 288, 295, 335, 307, 295, 318, 260, 259, 199, 229, 230, 214, 177, 181, 200, 213, 191, 207, 188, 171, 159, 181, 194, 149, 147, 135, 156, 127, 106, 140, 82, 11, 3, 1, 1, 1, 1, 2], \"yaxis\": \"y\"}],\n",
              "                        {\"legend\": {\"tracegroupgap\": 0}, \"template\": {\"data\": {\"bar\": [{\"error_x\": {\"color\": \"#2a3f5f\"}, \"error_y\": {\"color\": \"#2a3f5f\"}, \"marker\": {\"line\": {\"color\": \"#E5ECF6\", \"width\": 0.5}}, \"type\": \"bar\"}], \"barpolar\": [{\"marker\": {\"line\": {\"color\": \"#E5ECF6\", \"width\": 0.5}}, \"type\": \"barpolar\"}], \"carpet\": [{\"aaxis\": {\"endlinecolor\": \"#2a3f5f\", \"gridcolor\": \"white\", \"linecolor\": \"white\", \"minorgridcolor\": \"white\", \"startlinecolor\": \"#2a3f5f\"}, \"baxis\": {\"endlinecolor\": \"#2a3f5f\", \"gridcolor\": \"white\", \"linecolor\": \"white\", \"minorgridcolor\": \"white\", \"startlinecolor\": \"#2a3f5f\"}, \"type\": \"carpet\"}], \"choropleth\": [{\"colorbar\": {\"outlinewidth\": 0, \"ticks\": \"\"}, \"type\": \"choropleth\"}], \"contour\": [{\"colorbar\": {\"outlinewidth\": 0, \"ticks\": \"\"}, \"colorscale\": [[0.0, \"#0d0887\"], [0.1111111111111111, \"#46039f\"], [0.2222222222222222, \"#7201a8\"], [0.3333333333333333, \"#9c179e\"], [0.4444444444444444, \"#bd3786\"], [0.5555555555555556, \"#d8576b\"], [0.6666666666666666, \"#ed7953\"], [0.7777777777777778, \"#fb9f3a\"], [0.8888888888888888, \"#fdca26\"], [1.0, \"#f0f921\"]], \"type\": \"contour\"}], \"contourcarpet\": [{\"colorbar\": {\"outlinewidth\": 0, \"ticks\": \"\"}, \"type\": \"contourcarpet\"}], \"heatmap\": [{\"colorbar\": {\"outlinewidth\": 0, \"ticks\": \"\"}, \"colorscale\": [[0.0, \"#0d0887\"], [0.1111111111111111, \"#46039f\"], [0.2222222222222222, \"#7201a8\"], [0.3333333333333333, \"#9c179e\"], [0.4444444444444444, \"#bd3786\"], [0.5555555555555556, \"#d8576b\"], [0.6666666666666666, \"#ed7953\"], [0.7777777777777778, \"#fb9f3a\"], [0.8888888888888888, \"#fdca26\"], [1.0, \"#f0f921\"]], \"type\": \"heatmap\"}], \"heatmapgl\": [{\"colorbar\": {\"outlinewidth\": 0, \"ticks\": \"\"}, \"colorscale\": [[0.0, \"#0d0887\"], [0.1111111111111111, \"#46039f\"], [0.2222222222222222, \"#7201a8\"], [0.3333333333333333, \"#9c179e\"], [0.4444444444444444, \"#bd3786\"], [0.5555555555555556, \"#d8576b\"], [0.6666666666666666, \"#ed7953\"], [0.7777777777777778, \"#fb9f3a\"], [0.8888888888888888, \"#fdca26\"], [1.0, \"#f0f921\"]], \"type\": \"heatmapgl\"}], \"histogram\": [{\"marker\": {\"colorbar\": {\"outlinewidth\": 0, \"ticks\": \"\"}}, \"type\": \"histogram\"}], \"histogram2d\": [{\"colorbar\": {\"outlinewidth\": 0, \"ticks\": \"\"}, \"colorscale\": [[0.0, \"#0d0887\"], [0.1111111111111111, \"#46039f\"], [0.2222222222222222, \"#7201a8\"], [0.3333333333333333, \"#9c179e\"], [0.4444444444444444, \"#bd3786\"], [0.5555555555555556, \"#d8576b\"], [0.6666666666666666, \"#ed7953\"], [0.7777777777777778, \"#fb9f3a\"], [0.8888888888888888, \"#fdca26\"], [1.0, \"#f0f921\"]], \"type\": \"histogram2d\"}], \"histogram2dcontour\": [{\"colorbar\": {\"outlinewidth\": 0, \"ticks\": \"\"}, \"colorscale\": [[0.0, \"#0d0887\"], [0.1111111111111111, \"#46039f\"], [0.2222222222222222, \"#7201a8\"], [0.3333333333333333, \"#9c179e\"], [0.4444444444444444, \"#bd3786\"], [0.5555555555555556, \"#d8576b\"], [0.6666666666666666, \"#ed7953\"], [0.7777777777777778, \"#fb9f3a\"], [0.8888888888888888, \"#fdca26\"], [1.0, \"#f0f921\"]], \"type\": \"histogram2dcontour\"}], \"mesh3d\": [{\"colorbar\": {\"outlinewidth\": 0, \"ticks\": \"\"}, \"type\": \"mesh3d\"}], \"parcoords\": [{\"line\": {\"colorbar\": {\"outlinewidth\": 0, \"ticks\": \"\"}}, \"type\": \"parcoords\"}], \"pie\": [{\"automargin\": true, \"type\": \"pie\"}], \"scatter\": [{\"marker\": {\"colorbar\": {\"outlinewidth\": 0, \"ticks\": \"\"}}, \"type\": \"scatter\"}], \"scatter3d\": [{\"line\": {\"colorbar\": {\"outlinewidth\": 0, \"ticks\": \"\"}}, \"marker\": {\"colorbar\": {\"outlinewidth\": 0, \"ticks\": \"\"}}, \"type\": \"scatter3d\"}], \"scattercarpet\": [{\"marker\": {\"colorbar\": {\"outlinewidth\": 0, \"ticks\": \"\"}}, \"type\": \"scattercarpet\"}], \"scattergeo\": [{\"marker\": {\"colorbar\": {\"outlinewidth\": 0, \"ticks\": \"\"}}, \"type\": \"scattergeo\"}], \"scattergl\": [{\"marker\": {\"colorbar\": {\"outlinewidth\": 0, \"ticks\": \"\"}}, \"type\": \"scattergl\"}], \"scattermapbox\": [{\"marker\": {\"colorbar\": {\"outlinewidth\": 0, \"ticks\": \"\"}}, \"type\": \"scattermapbox\"}], \"scatterpolar\": [{\"marker\": {\"colorbar\": {\"outlinewidth\": 0, \"ticks\": \"\"}}, \"type\": \"scatterpolar\"}], \"scatterpolargl\": [{\"marker\": {\"colorbar\": {\"outlinewidth\": 0, \"ticks\": \"\"}}, \"type\": \"scatterpolargl\"}], \"scatterternary\": [{\"marker\": {\"colorbar\": {\"outlinewidth\": 0, \"ticks\": \"\"}}, \"type\": \"scatterternary\"}], \"surface\": [{\"colorbar\": {\"outlinewidth\": 0, \"ticks\": \"\"}, \"colorscale\": [[0.0, \"#0d0887\"], [0.1111111111111111, \"#46039f\"], [0.2222222222222222, \"#7201a8\"], [0.3333333333333333, \"#9c179e\"], [0.4444444444444444, \"#bd3786\"], [0.5555555555555556, \"#d8576b\"], [0.6666666666666666, \"#ed7953\"], [0.7777777777777778, \"#fb9f3a\"], [0.8888888888888888, \"#fdca26\"], [1.0, \"#f0f921\"]], \"type\": \"surface\"}], \"table\": [{\"cells\": {\"fill\": {\"color\": \"#EBF0F8\"}, \"line\": {\"color\": \"white\"}}, \"header\": {\"fill\": {\"color\": \"#C8D4E3\"}, \"line\": {\"color\": \"white\"}}, \"type\": \"table\"}]}, \"layout\": {\"annotationdefaults\": {\"arrowcolor\": \"#2a3f5f\", \"arrowhead\": 0, \"arrowwidth\": 1}, \"coloraxis\": {\"colorbar\": {\"outlinewidth\": 0, \"ticks\": \"\"}}, \"colorscale\": {\"diverging\": [[0, \"#8e0152\"], [0.1, \"#c51b7d\"], [0.2, \"#de77ae\"], [0.3, \"#f1b6da\"], [0.4, \"#fde0ef\"], [0.5, \"#f7f7f7\"], [0.6, \"#e6f5d0\"], [0.7, \"#b8e186\"], [0.8, \"#7fbc41\"], [0.9, \"#4d9221\"], [1, \"#276419\"]], \"sequential\": [[0.0, \"#0d0887\"], [0.1111111111111111, \"#46039f\"], [0.2222222222222222, \"#7201a8\"], [0.3333333333333333, \"#9c179e\"], [0.4444444444444444, \"#bd3786\"], [0.5555555555555556, \"#d8576b\"], [0.6666666666666666, \"#ed7953\"], [0.7777777777777778, \"#fb9f3a\"], [0.8888888888888888, \"#fdca26\"], [1.0, \"#f0f921\"]], \"sequentialminus\": [[0.0, \"#0d0887\"], [0.1111111111111111, \"#46039f\"], [0.2222222222222222, \"#7201a8\"], [0.3333333333333333, \"#9c179e\"], [0.4444444444444444, \"#bd3786\"], [0.5555555555555556, \"#d8576b\"], [0.6666666666666666, \"#ed7953\"], [0.7777777777777778, \"#fb9f3a\"], [0.8888888888888888, \"#fdca26\"], [1.0, \"#f0f921\"]]}, \"colorway\": [\"#636efa\", \"#EF553B\", \"#00cc96\", \"#ab63fa\", \"#FFA15A\", \"#19d3f3\", \"#FF6692\", \"#B6E880\", \"#FF97FF\", \"#FECB52\"], \"font\": {\"color\": \"#2a3f5f\"}, \"geo\": {\"bgcolor\": \"white\", \"lakecolor\": \"white\", \"landcolor\": \"#E5ECF6\", \"showlakes\": true, \"showland\": true, \"subunitcolor\": \"white\"}, \"hoverlabel\": {\"align\": \"left\"}, \"hovermode\": \"closest\", \"mapbox\": {\"style\": \"light\"}, \"paper_bgcolor\": \"white\", \"plot_bgcolor\": \"#E5ECF6\", \"polar\": {\"angularaxis\": {\"gridcolor\": \"white\", \"linecolor\": \"white\", \"ticks\": \"\"}, \"bgcolor\": \"#E5ECF6\", \"radialaxis\": {\"gridcolor\": \"white\", \"linecolor\": \"white\", \"ticks\": \"\"}}, \"scene\": {\"xaxis\": {\"backgroundcolor\": \"#E5ECF6\", \"gridcolor\": \"white\", \"gridwidth\": 2, \"linecolor\": \"white\", \"showbackground\": true, \"ticks\": \"\", \"zerolinecolor\": \"white\"}, \"yaxis\": {\"backgroundcolor\": \"#E5ECF6\", \"gridcolor\": \"white\", \"gridwidth\": 2, \"linecolor\": \"white\", \"showbackground\": true, \"ticks\": \"\", \"zerolinecolor\": \"white\"}, \"zaxis\": {\"backgroundcolor\": \"#E5ECF6\", \"gridcolor\": \"white\", \"gridwidth\": 2, \"linecolor\": \"white\", \"showbackground\": true, \"ticks\": \"\", \"zerolinecolor\": \"white\"}}, \"shapedefaults\": {\"line\": {\"color\": \"#2a3f5f\"}}, \"ternary\": {\"aaxis\": {\"gridcolor\": \"white\", \"linecolor\": \"white\", \"ticks\": \"\"}, \"baxis\": {\"gridcolor\": \"white\", \"linecolor\": \"white\", \"ticks\": \"\"}, \"bgcolor\": \"#E5ECF6\", \"caxis\": {\"gridcolor\": \"white\", \"linecolor\": \"white\", \"ticks\": \"\"}}, \"title\": {\"x\": 0.05}, \"xaxis\": {\"automargin\": true, \"gridcolor\": \"white\", \"linecolor\": \"white\", \"ticks\": \"\", \"title\": {\"standoff\": 15}, \"zerolinecolor\": \"white\", \"zerolinewidth\": 2}, \"yaxis\": {\"automargin\": true, \"gridcolor\": \"white\", \"linecolor\": \"white\", \"ticks\": \"\", \"title\": {\"standoff\": 15}, \"zerolinecolor\": \"white\", \"zerolinewidth\": 2}}}, \"title\": {\"text\": \"Clientes con prestamos por edad\"}, \"xaxis\": {\"anchor\": \"y\", \"domain\": [0.0, 1.0], \"title\": {\"text\": \"age\"}}, \"yaxis\": {\"anchor\": \"x\", \"domain\": [0.0, 1.0], \"title\": {\"text\": \"total\"}}},\n",
              "                        {\"responsive\": true}\n",
              "                    ).then(function(){\n",
              "                            \n",
              "var gd = document.getElementById('db704bd2-0e2c-4596-81f0-4453eaacaf9c');\n",
              "var x = new MutationObserver(function (mutations, observer) {{\n",
              "        var display = window.getComputedStyle(gd).display;\n",
              "        if (!display || display === 'none') {{\n",
              "            console.log([gd, 'removed!']);\n",
              "            Plotly.purge(gd);\n",
              "            observer.disconnect();\n",
              "        }}\n",
              "}});\n",
              "\n",
              "// Listen for the removal of the full notebook cells\n",
              "var notebookContainer = gd.closest('#notebook-container');\n",
              "if (notebookContainer) {{\n",
              "    x.observe(notebookContainer, {childList: true});\n",
              "}}\n",
              "\n",
              "// Listen for the clearing of the current output cell\n",
              "var outputEl = gd.closest('.output');\n",
              "if (outputEl) {{\n",
              "    x.observe(outputEl, {childList: true});\n",
              "}}\n",
              "\n",
              "                        })\n",
              "                };\n",
              "                \n",
              "            </script>\n",
              "        </div>\n",
              "</body>\n",
              "</html>"
            ]
          },
          "metadata": {
            "tags": []
          }
        }
      ]
    },
    {
      "cell_type": "code",
      "metadata": {
        "colab": {
          "base_uri": "https://localhost:8080/",
          "height": 204
        },
        "id": "TMroLoDPaYke",
        "outputId": "a75c886f-2668-4980-a685-d7d22ff9c6f1"
      },
      "source": [
        "bankfullSub1 = bankfull[filter_mask].groupby([\"L26951\",\"contact\"])[\"y\"].agg(total=\"count\").reset_index()\n",
        "bankfullSub1.head()"
      ],
      "execution_count": 68,
      "outputs": [
        {
          "output_type": "execute_result",
          "data": {
            "text/html": [
              "<div>\n",
              "<style scoped>\n",
              "    .dataframe tbody tr th:only-of-type {\n",
              "        vertical-align: middle;\n",
              "    }\n",
              "\n",
              "    .dataframe tbody tr th {\n",
              "        vertical-align: top;\n",
              "    }\n",
              "\n",
              "    .dataframe thead th {\n",
              "        text-align: right;\n",
              "    }\n",
              "</style>\n",
              "<table border=\"1\" class=\"dataframe\">\n",
              "  <thead>\n",
              "    <tr style=\"text-align: right;\">\n",
              "      <th></th>\n",
              "      <th>L26951</th>\n",
              "      <th>contact</th>\n",
              "      <th>total</th>\n",
              "    </tr>\n",
              "  </thead>\n",
              "  <tbody>\n",
              "    <tr>\n",
              "      <th>0</th>\n",
              "      <td>0</td>\n",
              "      <td>cellular</td>\n",
              "      <td>2463</td>\n",
              "    </tr>\n",
              "    <tr>\n",
              "      <th>1</th>\n",
              "      <td>0</td>\n",
              "      <td>telephone</td>\n",
              "      <td>223</td>\n",
              "    </tr>\n",
              "    <tr>\n",
              "      <th>2</th>\n",
              "      <td>0</td>\n",
              "      <td>unknown</td>\n",
              "      <td>1000</td>\n",
              "    </tr>\n",
              "    <tr>\n",
              "      <th>3</th>\n",
              "      <td>1</td>\n",
              "      <td>cellular</td>\n",
              "      <td>2337</td>\n",
              "    </tr>\n",
              "    <tr>\n",
              "      <th>4</th>\n",
              "      <td>1</td>\n",
              "      <td>telephone</td>\n",
              "      <td>189</td>\n",
              "    </tr>\n",
              "  </tbody>\n",
              "</table>\n",
              "</div>"
            ],
            "text/plain": [
              "   L26951    contact  total\n",
              "0       0   cellular   2463\n",
              "1       0  telephone    223\n",
              "2       0    unknown   1000\n",
              "3       1   cellular   2337\n",
              "4       1  telephone    189"
            ]
          },
          "metadata": {
            "tags": []
          },
          "execution_count": 68
        }
      ]
    },
    {
      "cell_type": "code",
      "metadata": {
        "colab": {
          "base_uri": "https://localhost:8080/",
          "height": 142
        },
        "id": "XgHWo-cMco23",
        "outputId": "c0e27069-42a8-4067-f67c-5a17a7cc1773"
      },
      "source": [
        "bankfullSub1 = bankfullSub1.query(\"L26951 == '1'\").reset_index(drop=True)\n",
        "bankfullSub1"
      ],
      "execution_count": 69,
      "outputs": [
        {
          "output_type": "execute_result",
          "data": {
            "text/html": [
              "<div>\n",
              "<style scoped>\n",
              "    .dataframe tbody tr th:only-of-type {\n",
              "        vertical-align: middle;\n",
              "    }\n",
              "\n",
              "    .dataframe tbody tr th {\n",
              "        vertical-align: top;\n",
              "    }\n",
              "\n",
              "    .dataframe thead th {\n",
              "        text-align: right;\n",
              "    }\n",
              "</style>\n",
              "<table border=\"1\" class=\"dataframe\">\n",
              "  <thead>\n",
              "    <tr style=\"text-align: right;\">\n",
              "      <th></th>\n",
              "      <th>L26951</th>\n",
              "      <th>contact</th>\n",
              "      <th>total</th>\n",
              "    </tr>\n",
              "  </thead>\n",
              "  <tbody>\n",
              "    <tr>\n",
              "      <th>0</th>\n",
              "      <td>1</td>\n",
              "      <td>cellular</td>\n",
              "      <td>2337</td>\n",
              "    </tr>\n",
              "    <tr>\n",
              "      <th>1</th>\n",
              "      <td>1</td>\n",
              "      <td>telephone</td>\n",
              "      <td>189</td>\n",
              "    </tr>\n",
              "    <tr>\n",
              "      <th>2</th>\n",
              "      <td>1</td>\n",
              "      <td>unknown</td>\n",
              "      <td>1032</td>\n",
              "    </tr>\n",
              "  </tbody>\n",
              "</table>\n",
              "</div>"
            ],
            "text/plain": [
              "   L26951    contact  total\n",
              "0       1   cellular   2337\n",
              "1       1  telephone    189\n",
              "2       1    unknown   1032"
            ]
          },
          "metadata": {
            "tags": []
          },
          "execution_count": 69
        }
      ]
    },
    {
      "cell_type": "code",
      "metadata": {
        "id": "9XzfVuA8a4q_"
      },
      "source": [
        "bankfullSub1.L26951 = bankfullSub1.L26951.apply(str)"
      ],
      "execution_count": 65,
      "outputs": []
    },
    {
      "cell_type": "code",
      "metadata": {
        "colab": {
          "base_uri": "https://localhost:8080/",
          "height": 542
        },
        "id": "AqMOPFr9awhA",
        "outputId": "2f17e916-c2cc-4549-91ac-26ad6b5451e7"
      },
      "source": [
        "fig = px.scatter(bankfullSub1, \n",
        "                 x=\"age\", \n",
        "                 y=\"total\", \n",
        "                 color=\"L26951\",\n",
        "                 title=\"Clientes con prestamos por edad en registro Ley Nº 26.951\")\n",
        "fig.show()"
      ],
      "execution_count": 67,
      "outputs": [
        {
          "output_type": "display_data",
          "data": {
            "text/html": [
              "<html>\n",
              "<head><meta charset=\"utf-8\" /></head>\n",
              "<body>\n",
              "    <div>\n",
              "            <script src=\"https://cdnjs.cloudflare.com/ajax/libs/mathjax/2.7.5/MathJax.js?config=TeX-AMS-MML_SVG\"></script><script type=\"text/javascript\">if (window.MathJax) {MathJax.Hub.Config({SVG: {font: \"STIX-Web\"}});}</script>\n",
              "                <script type=\"text/javascript\">window.PlotlyConfig = {MathJaxConfig: 'local'};</script>\n",
              "        <script src=\"https://cdn.plot.ly/plotly-latest.min.js\"></script>    \n",
              "            <div id=\"9f41ad3c-3cdf-4033-94c6-150102acd128\" class=\"plotly-graph-div\" style=\"height:525px; width:100%;\"></div>\n",
              "            <script type=\"text/javascript\">\n",
              "                \n",
              "                    window.PLOTLYENV=window.PLOTLYENV || {};\n",
              "                    \n",
              "                if (document.getElementById(\"9f41ad3c-3cdf-4033-94c6-150102acd128\")) {\n",
              "                    Plotly.newPlot(\n",
              "                        '9f41ad3c-3cdf-4033-94c6-150102acd128',\n",
              "                        [{\"hoverlabel\": {\"namelength\": 0}, \"hovertemplate\": \"L26951=0<br>age=%{x}<br>total=%{y}\", \"legendgroup\": \"L26951=0\", \"marker\": {\"color\": \"#636efa\", \"symbol\": \"circle\"}, \"mode\": \"markers\", \"name\": \"L26951=0\", \"showlegend\": true, \"type\": \"scatter\", \"x\": [20, 21, 22, 23, 24, 25, 26, 27, 28, 29, 30, 31, 32, 33, 34, 35, 36, 37, 38, 39, 40, 41, 42, 43, 44, 45, 46, 47, 48, 49, 50, 51, 52, 53, 54, 55, 56, 57, 58, 59, 60, 61, 62, 64, 72], \"xaxis\": \"x\", \"y\": [1, 4, 8, 6, 18, 47, 71, 76, 99, 102, 166, 145, 181, 147, 158, 174, 134, 139, 103, 115, 104, 103, 88, 100, 95, 117, 99, 113, 97, 89, 92, 87, 94, 73, 67, 72, 82, 49, 54, 63, 45, 4, 2, 1, 2], \"yaxis\": \"y\"}, {\"hoverlabel\": {\"namelength\": 0}, \"hovertemplate\": \"L26951=1<br>age=%{x}<br>total=%{y}\", \"legendgroup\": \"L26951=1\", \"marker\": {\"color\": \"#EF553B\", \"symbol\": \"circle\"}, \"mode\": \"markers\", \"name\": \"L26951=1\", \"showlegend\": true, \"type\": \"scatter\", \"x\": [20, 21, 22, 23, 24, 25, 26, 27, 28, 29, 30, 31, 32, 33, 34, 35, 36, 37, 38, 39, 40, 41, 42, 43, 44, 45, 46, 47, 48, 49, 50, 51, 52, 53, 54, 55, 56, 57, 58, 59, 60, 61, 62, 65, 66, 71], \"xaxis\": \"x\", \"y\": [2, 4, 4, 13, 20, 52, 90, 91, 88, 95, 122, 150, 154, 160, 137, 144, 126, 120, 96, 114, 126, 111, 89, 81, 105, 96, 92, 94, 91, 82, 67, 94, 100, 76, 80, 63, 74, 78, 52, 77, 37, 7, 1, 1, 1, 1], \"yaxis\": \"y\"}],\n",
              "                        {\"legend\": {\"tracegroupgap\": 0}, \"template\": {\"data\": {\"bar\": [{\"error_x\": {\"color\": \"#2a3f5f\"}, \"error_y\": {\"color\": \"#2a3f5f\"}, \"marker\": {\"line\": {\"color\": \"#E5ECF6\", \"width\": 0.5}}, \"type\": \"bar\"}], \"barpolar\": [{\"marker\": {\"line\": {\"color\": \"#E5ECF6\", \"width\": 0.5}}, \"type\": \"barpolar\"}], \"carpet\": [{\"aaxis\": {\"endlinecolor\": \"#2a3f5f\", \"gridcolor\": \"white\", \"linecolor\": \"white\", \"minorgridcolor\": \"white\", \"startlinecolor\": \"#2a3f5f\"}, \"baxis\": {\"endlinecolor\": \"#2a3f5f\", \"gridcolor\": \"white\", \"linecolor\": \"white\", \"minorgridcolor\": \"white\", \"startlinecolor\": \"#2a3f5f\"}, \"type\": \"carpet\"}], \"choropleth\": [{\"colorbar\": {\"outlinewidth\": 0, \"ticks\": \"\"}, \"type\": \"choropleth\"}], \"contour\": [{\"colorbar\": {\"outlinewidth\": 0, \"ticks\": \"\"}, \"colorscale\": [[0.0, \"#0d0887\"], [0.1111111111111111, \"#46039f\"], [0.2222222222222222, \"#7201a8\"], [0.3333333333333333, \"#9c179e\"], [0.4444444444444444, \"#bd3786\"], [0.5555555555555556, \"#d8576b\"], [0.6666666666666666, \"#ed7953\"], [0.7777777777777778, \"#fb9f3a\"], [0.8888888888888888, \"#fdca26\"], [1.0, \"#f0f921\"]], \"type\": \"contour\"}], \"contourcarpet\": [{\"colorbar\": {\"outlinewidth\": 0, \"ticks\": \"\"}, \"type\": \"contourcarpet\"}], \"heatmap\": [{\"colorbar\": {\"outlinewidth\": 0, \"ticks\": \"\"}, \"colorscale\": [[0.0, \"#0d0887\"], [0.1111111111111111, \"#46039f\"], [0.2222222222222222, \"#7201a8\"], [0.3333333333333333, \"#9c179e\"], [0.4444444444444444, \"#bd3786\"], [0.5555555555555556, \"#d8576b\"], [0.6666666666666666, \"#ed7953\"], [0.7777777777777778, \"#fb9f3a\"], [0.8888888888888888, \"#fdca26\"], [1.0, \"#f0f921\"]], \"type\": \"heatmap\"}], \"heatmapgl\": [{\"colorbar\": {\"outlinewidth\": 0, \"ticks\": \"\"}, \"colorscale\": [[0.0, \"#0d0887\"], [0.1111111111111111, \"#46039f\"], [0.2222222222222222, \"#7201a8\"], [0.3333333333333333, \"#9c179e\"], [0.4444444444444444, \"#bd3786\"], [0.5555555555555556, \"#d8576b\"], [0.6666666666666666, \"#ed7953\"], [0.7777777777777778, \"#fb9f3a\"], [0.8888888888888888, \"#fdca26\"], [1.0, \"#f0f921\"]], \"type\": \"heatmapgl\"}], \"histogram\": [{\"marker\": {\"colorbar\": {\"outlinewidth\": 0, \"ticks\": \"\"}}, \"type\": \"histogram\"}], \"histogram2d\": [{\"colorbar\": {\"outlinewidth\": 0, \"ticks\": \"\"}, \"colorscale\": [[0.0, \"#0d0887\"], [0.1111111111111111, \"#46039f\"], [0.2222222222222222, \"#7201a8\"], [0.3333333333333333, \"#9c179e\"], [0.4444444444444444, \"#bd3786\"], [0.5555555555555556, \"#d8576b\"], [0.6666666666666666, \"#ed7953\"], [0.7777777777777778, \"#fb9f3a\"], [0.8888888888888888, \"#fdca26\"], [1.0, \"#f0f921\"]], \"type\": \"histogram2d\"}], \"histogram2dcontour\": [{\"colorbar\": {\"outlinewidth\": 0, \"ticks\": \"\"}, \"colorscale\": [[0.0, \"#0d0887\"], [0.1111111111111111, \"#46039f\"], [0.2222222222222222, \"#7201a8\"], [0.3333333333333333, \"#9c179e\"], [0.4444444444444444, \"#bd3786\"], [0.5555555555555556, \"#d8576b\"], [0.6666666666666666, \"#ed7953\"], [0.7777777777777778, \"#fb9f3a\"], [0.8888888888888888, \"#fdca26\"], [1.0, \"#f0f921\"]], \"type\": \"histogram2dcontour\"}], \"mesh3d\": [{\"colorbar\": {\"outlinewidth\": 0, \"ticks\": \"\"}, \"type\": \"mesh3d\"}], \"parcoords\": [{\"line\": {\"colorbar\": {\"outlinewidth\": 0, \"ticks\": \"\"}}, \"type\": \"parcoords\"}], \"pie\": [{\"automargin\": true, \"type\": \"pie\"}], \"scatter\": [{\"marker\": {\"colorbar\": {\"outlinewidth\": 0, \"ticks\": \"\"}}, \"type\": \"scatter\"}], \"scatter3d\": [{\"line\": {\"colorbar\": {\"outlinewidth\": 0, \"ticks\": \"\"}}, \"marker\": {\"colorbar\": {\"outlinewidth\": 0, \"ticks\": \"\"}}, \"type\": \"scatter3d\"}], \"scattercarpet\": [{\"marker\": {\"colorbar\": {\"outlinewidth\": 0, \"ticks\": \"\"}}, \"type\": \"scattercarpet\"}], \"scattergeo\": [{\"marker\": {\"colorbar\": {\"outlinewidth\": 0, \"ticks\": \"\"}}, \"type\": \"scattergeo\"}], \"scattergl\": [{\"marker\": {\"colorbar\": {\"outlinewidth\": 0, \"ticks\": \"\"}}, \"type\": \"scattergl\"}], \"scattermapbox\": [{\"marker\": {\"colorbar\": {\"outlinewidth\": 0, \"ticks\": \"\"}}, \"type\": \"scattermapbox\"}], \"scatterpolar\": [{\"marker\": {\"colorbar\": {\"outlinewidth\": 0, \"ticks\": \"\"}}, \"type\": \"scatterpolar\"}], \"scatterpolargl\": [{\"marker\": {\"colorbar\": {\"outlinewidth\": 0, \"ticks\": \"\"}}, \"type\": \"scatterpolargl\"}], \"scatterternary\": [{\"marker\": {\"colorbar\": {\"outlinewidth\": 0, \"ticks\": \"\"}}, \"type\": \"scatterternary\"}], \"surface\": [{\"colorbar\": {\"outlinewidth\": 0, \"ticks\": \"\"}, \"colorscale\": [[0.0, \"#0d0887\"], [0.1111111111111111, \"#46039f\"], [0.2222222222222222, \"#7201a8\"], [0.3333333333333333, \"#9c179e\"], [0.4444444444444444, \"#bd3786\"], [0.5555555555555556, \"#d8576b\"], [0.6666666666666666, \"#ed7953\"], [0.7777777777777778, \"#fb9f3a\"], [0.8888888888888888, \"#fdca26\"], [1.0, \"#f0f921\"]], \"type\": \"surface\"}], \"table\": [{\"cells\": {\"fill\": {\"color\": \"#EBF0F8\"}, \"line\": {\"color\": \"white\"}}, \"header\": {\"fill\": {\"color\": \"#C8D4E3\"}, \"line\": {\"color\": \"white\"}}, \"type\": \"table\"}]}, \"layout\": {\"annotationdefaults\": {\"arrowcolor\": \"#2a3f5f\", \"arrowhead\": 0, \"arrowwidth\": 1}, \"coloraxis\": {\"colorbar\": {\"outlinewidth\": 0, \"ticks\": \"\"}}, \"colorscale\": {\"diverging\": [[0, \"#8e0152\"], [0.1, \"#c51b7d\"], [0.2, \"#de77ae\"], [0.3, \"#f1b6da\"], [0.4, \"#fde0ef\"], [0.5, \"#f7f7f7\"], [0.6, \"#e6f5d0\"], [0.7, \"#b8e186\"], [0.8, \"#7fbc41\"], [0.9, \"#4d9221\"], [1, \"#276419\"]], \"sequential\": [[0.0, \"#0d0887\"], [0.1111111111111111, \"#46039f\"], [0.2222222222222222, \"#7201a8\"], [0.3333333333333333, \"#9c179e\"], [0.4444444444444444, \"#bd3786\"], [0.5555555555555556, \"#d8576b\"], [0.6666666666666666, \"#ed7953\"], [0.7777777777777778, \"#fb9f3a\"], [0.8888888888888888, \"#fdca26\"], [1.0, \"#f0f921\"]], \"sequentialminus\": [[0.0, \"#0d0887\"], [0.1111111111111111, \"#46039f\"], [0.2222222222222222, \"#7201a8\"], [0.3333333333333333, \"#9c179e\"], [0.4444444444444444, \"#bd3786\"], [0.5555555555555556, \"#d8576b\"], [0.6666666666666666, \"#ed7953\"], [0.7777777777777778, \"#fb9f3a\"], [0.8888888888888888, \"#fdca26\"], [1.0, \"#f0f921\"]]}, \"colorway\": [\"#636efa\", \"#EF553B\", \"#00cc96\", \"#ab63fa\", \"#FFA15A\", \"#19d3f3\", \"#FF6692\", \"#B6E880\", \"#FF97FF\", \"#FECB52\"], \"font\": {\"color\": \"#2a3f5f\"}, \"geo\": {\"bgcolor\": \"white\", \"lakecolor\": \"white\", \"landcolor\": \"#E5ECF6\", \"showlakes\": true, \"showland\": true, \"subunitcolor\": \"white\"}, \"hoverlabel\": {\"align\": \"left\"}, \"hovermode\": \"closest\", \"mapbox\": {\"style\": \"light\"}, \"paper_bgcolor\": \"white\", \"plot_bgcolor\": \"#E5ECF6\", \"polar\": {\"angularaxis\": {\"gridcolor\": \"white\", \"linecolor\": \"white\", \"ticks\": \"\"}, \"bgcolor\": \"#E5ECF6\", \"radialaxis\": {\"gridcolor\": \"white\", \"linecolor\": \"white\", \"ticks\": \"\"}}, \"scene\": {\"xaxis\": {\"backgroundcolor\": \"#E5ECF6\", \"gridcolor\": \"white\", \"gridwidth\": 2, \"linecolor\": \"white\", \"showbackground\": true, \"ticks\": \"\", \"zerolinecolor\": \"white\"}, \"yaxis\": {\"backgroundcolor\": \"#E5ECF6\", \"gridcolor\": \"white\", \"gridwidth\": 2, \"linecolor\": \"white\", \"showbackground\": true, \"ticks\": \"\", \"zerolinecolor\": \"white\"}, \"zaxis\": {\"backgroundcolor\": \"#E5ECF6\", \"gridcolor\": \"white\", \"gridwidth\": 2, \"linecolor\": \"white\", \"showbackground\": true, \"ticks\": \"\", \"zerolinecolor\": \"white\"}}, \"shapedefaults\": {\"line\": {\"color\": \"#2a3f5f\"}}, \"ternary\": {\"aaxis\": {\"gridcolor\": \"white\", \"linecolor\": \"white\", \"ticks\": \"\"}, \"baxis\": {\"gridcolor\": \"white\", \"linecolor\": \"white\", \"ticks\": \"\"}, \"bgcolor\": \"#E5ECF6\", \"caxis\": {\"gridcolor\": \"white\", \"linecolor\": \"white\", \"ticks\": \"\"}}, \"title\": {\"x\": 0.05}, \"xaxis\": {\"automargin\": true, \"gridcolor\": \"white\", \"linecolor\": \"white\", \"ticks\": \"\", \"title\": {\"standoff\": 15}, \"zerolinecolor\": \"white\", \"zerolinewidth\": 2}, \"yaxis\": {\"automargin\": true, \"gridcolor\": \"white\", \"linecolor\": \"white\", \"ticks\": \"\", \"title\": {\"standoff\": 15}, \"zerolinecolor\": \"white\", \"zerolinewidth\": 2}}}, \"title\": {\"text\": \"Clientes con prestamos por edad en registro Ley N\\u00ba 26.951\"}, \"xaxis\": {\"anchor\": \"y\", \"domain\": [0.0, 1.0], \"title\": {\"text\": \"age\"}}, \"yaxis\": {\"anchor\": \"x\", \"domain\": [0.0, 1.0], \"title\": {\"text\": \"total\"}}},\n",
              "                        {\"responsive\": true}\n",
              "                    ).then(function(){\n",
              "                            \n",
              "var gd = document.getElementById('9f41ad3c-3cdf-4033-94c6-150102acd128');\n",
              "var x = new MutationObserver(function (mutations, observer) {{\n",
              "        var display = window.getComputedStyle(gd).display;\n",
              "        if (!display || display === 'none') {{\n",
              "            console.log([gd, 'removed!']);\n",
              "            Plotly.purge(gd);\n",
              "            observer.disconnect();\n",
              "        }}\n",
              "}});\n",
              "\n",
              "// Listen for the removal of the full notebook cells\n",
              "var notebookContainer = gd.closest('#notebook-container');\n",
              "if (notebookContainer) {{\n",
              "    x.observe(notebookContainer, {childList: true});\n",
              "}}\n",
              "\n",
              "// Listen for the clearing of the current output cell\n",
              "var outputEl = gd.closest('.output');\n",
              "if (outputEl) {{\n",
              "    x.observe(outputEl, {childList: true});\n",
              "}}\n",
              "\n",
              "                        })\n",
              "                };\n",
              "                \n",
              "            </script>\n",
              "        </div>\n",
              "</body>\n",
              "</html>"
            ]
          },
          "metadata": {
            "tags": []
          }
        }
      ]
    },
    {
      "cell_type": "markdown",
      "metadata": {
        "id": "DUU3Vp1aQ-pP"
      },
      "source": [
        "#### Indice de Flujo de Fondos de los clientes\n"
      ]
    },
    {
      "cell_type": "code",
      "metadata": {
        "colab": {
          "base_uri": "https://localhost:8080/",
          "height": 224
        },
        "id": "hr6dsHoMSOGq",
        "outputId": "32081c1f-5dc5-43a7-d90a-1c7c301a4c2d"
      },
      "source": [
        "bankfull.head()"
      ],
      "execution_count": 23,
      "outputs": [
        {
          "output_type": "execute_result",
          "data": {
            "text/html": [
              "<div>\n",
              "<style scoped>\n",
              "    .dataframe tbody tr th:only-of-type {\n",
              "        vertical-align: middle;\n",
              "    }\n",
              "\n",
              "    .dataframe tbody tr th {\n",
              "        vertical-align: top;\n",
              "    }\n",
              "\n",
              "    .dataframe thead th {\n",
              "        text-align: right;\n",
              "    }\n",
              "</style>\n",
              "<table border=\"1\" class=\"dataframe\">\n",
              "  <thead>\n",
              "    <tr style=\"text-align: right;\">\n",
              "      <th></th>\n",
              "      <th>age</th>\n",
              "      <th>job</th>\n",
              "      <th>marital</th>\n",
              "      <th>education</th>\n",
              "      <th>default</th>\n",
              "      <th>balance</th>\n",
              "      <th>housing</th>\n",
              "      <th>loan</th>\n",
              "      <th>contact</th>\n",
              "      <th>day</th>\n",
              "      <th>month</th>\n",
              "      <th>duration</th>\n",
              "      <th>campaign</th>\n",
              "      <th>pdays</th>\n",
              "      <th>previous</th>\n",
              "      <th>poutcome</th>\n",
              "      <th>y</th>\n",
              "      <th>L26951</th>\n",
              "    </tr>\n",
              "  </thead>\n",
              "  <tbody>\n",
              "    <tr>\n",
              "      <th>0</th>\n",
              "      <td>58</td>\n",
              "      <td>management</td>\n",
              "      <td>married</td>\n",
              "      <td>tertiary</td>\n",
              "      <td>no</td>\n",
              "      <td>2143</td>\n",
              "      <td>yes</td>\n",
              "      <td>no</td>\n",
              "      <td>unknown</td>\n",
              "      <td>5</td>\n",
              "      <td>may</td>\n",
              "      <td>261</td>\n",
              "      <td>1</td>\n",
              "      <td>-1</td>\n",
              "      <td>0</td>\n",
              "      <td>unknown</td>\n",
              "      <td>no</td>\n",
              "      <td>1</td>\n",
              "    </tr>\n",
              "    <tr>\n",
              "      <th>1</th>\n",
              "      <td>44</td>\n",
              "      <td>technician</td>\n",
              "      <td>single</td>\n",
              "      <td>secondary</td>\n",
              "      <td>no</td>\n",
              "      <td>29</td>\n",
              "      <td>yes</td>\n",
              "      <td>no</td>\n",
              "      <td>unknown</td>\n",
              "      <td>5</td>\n",
              "      <td>may</td>\n",
              "      <td>151</td>\n",
              "      <td>1</td>\n",
              "      <td>-1</td>\n",
              "      <td>0</td>\n",
              "      <td>unknown</td>\n",
              "      <td>no</td>\n",
              "      <td>1</td>\n",
              "    </tr>\n",
              "    <tr>\n",
              "      <th>2</th>\n",
              "      <td>33</td>\n",
              "      <td>entrepreneur</td>\n",
              "      <td>married</td>\n",
              "      <td>secondary</td>\n",
              "      <td>no</td>\n",
              "      <td>2</td>\n",
              "      <td>yes</td>\n",
              "      <td>yes</td>\n",
              "      <td>unknown</td>\n",
              "      <td>5</td>\n",
              "      <td>may</td>\n",
              "      <td>76</td>\n",
              "      <td>1</td>\n",
              "      <td>-1</td>\n",
              "      <td>0</td>\n",
              "      <td>unknown</td>\n",
              "      <td>no</td>\n",
              "      <td>0</td>\n",
              "    </tr>\n",
              "    <tr>\n",
              "      <th>3</th>\n",
              "      <td>47</td>\n",
              "      <td>blue-collar</td>\n",
              "      <td>married</td>\n",
              "      <td>unknown</td>\n",
              "      <td>no</td>\n",
              "      <td>1506</td>\n",
              "      <td>yes</td>\n",
              "      <td>no</td>\n",
              "      <td>unknown</td>\n",
              "      <td>5</td>\n",
              "      <td>may</td>\n",
              "      <td>92</td>\n",
              "      <td>1</td>\n",
              "      <td>-1</td>\n",
              "      <td>0</td>\n",
              "      <td>unknown</td>\n",
              "      <td>no</td>\n",
              "      <td>0</td>\n",
              "    </tr>\n",
              "    <tr>\n",
              "      <th>4</th>\n",
              "      <td>33</td>\n",
              "      <td>unknown</td>\n",
              "      <td>single</td>\n",
              "      <td>unknown</td>\n",
              "      <td>no</td>\n",
              "      <td>1</td>\n",
              "      <td>no</td>\n",
              "      <td>no</td>\n",
              "      <td>unknown</td>\n",
              "      <td>5</td>\n",
              "      <td>may</td>\n",
              "      <td>198</td>\n",
              "      <td>1</td>\n",
              "      <td>-1</td>\n",
              "      <td>0</td>\n",
              "      <td>unknown</td>\n",
              "      <td>no</td>\n",
              "      <td>1</td>\n",
              "    </tr>\n",
              "  </tbody>\n",
              "</table>\n",
              "</div>"
            ],
            "text/plain": [
              "   age           job  marital  education  ... previous  poutcome   y L26951\n",
              "0   58    management  married   tertiary  ...        0   unknown  no      1\n",
              "1   44    technician   single  secondary  ...        0   unknown  no      1\n",
              "2   33  entrepreneur  married  secondary  ...        0   unknown  no      0\n",
              "3   47   blue-collar  married    unknown  ...        0   unknown  no      0\n",
              "4   33       unknown   single    unknown  ...        0   unknown  no      1\n",
              "\n",
              "[5 rows x 18 columns]"
            ]
          },
          "metadata": {
            "tags": []
          },
          "execution_count": 23
        }
      ]
    },
    {
      "cell_type": "code",
      "metadata": {
        "colab": {
          "base_uri": "https://localhost:8080/"
        },
        "id": "n8AQhqBrRDJR",
        "outputId": "cb4e8f78-dcac-41f3-8371-54f656f0f78a"
      },
      "source": [
        "bankfull.info()"
      ],
      "execution_count": 24,
      "outputs": [
        {
          "output_type": "stream",
          "text": [
            "<class 'pandas.core.frame.DataFrame'>\n",
            "Int64Index: 45211 entries, 0 to 45210\n",
            "Data columns (total 18 columns):\n",
            " #   Column     Non-Null Count  Dtype \n",
            "---  ------     --------------  ----- \n",
            " 0   age        45211 non-null  int64 \n",
            " 1   job        45211 non-null  object\n",
            " 2   marital    45211 non-null  object\n",
            " 3   education  45211 non-null  object\n",
            " 4   default    45211 non-null  object\n",
            " 5   balance    45211 non-null  int64 \n",
            " 6   housing    45211 non-null  object\n",
            " 7   loan       45211 non-null  object\n",
            " 8   contact    45211 non-null  object\n",
            " 9   day        45211 non-null  int64 \n",
            " 10  month      45211 non-null  object\n",
            " 11  duration   45211 non-null  int64 \n",
            " 12  campaign   45211 non-null  int64 \n",
            " 13  pdays      45211 non-null  int64 \n",
            " 14  previous   45211 non-null  int64 \n",
            " 15  poutcome   45211 non-null  object\n",
            " 16  y          45211 non-null  object\n",
            " 17  L26951     45211 non-null  int64 \n",
            "dtypes: int64(8), object(10)\n",
            "memory usage: 6.6+ MB\n"
          ],
          "name": "stdout"
        }
      ]
    },
    {
      "cell_type": "markdown",
      "metadata": {
        "id": "seX9a11kTtDR"
      },
      "source": [
        "Transformación de los depositos (balance)"
      ]
    },
    {
      "cell_type": "code",
      "metadata": {
        "id": "xdiwbTjPUJca"
      },
      "source": [
        "from sklearn import preprocessing"
      ],
      "execution_count": 25,
      "outputs": []
    },
    {
      "cell_type": "code",
      "metadata": {
        "id": "oDt9aKq7Tytg"
      },
      "source": [
        "x = bankfull[[\"balance\"]].values.astype(float)"
      ],
      "execution_count": 26,
      "outputs": []
    },
    {
      "cell_type": "code",
      "metadata": {
        "id": "292r2kcwT9u-"
      },
      "source": [
        "transf = preprocessing.MinMaxScaler()"
      ],
      "execution_count": 27,
      "outputs": []
    },
    {
      "cell_type": "code",
      "metadata": {
        "id": "94eTcZlkUQbS"
      },
      "source": [
        "bankfull[\"balancetransf\"] = transf.fit_transform(x)"
      ],
      "execution_count": 28,
      "outputs": []
    },
    {
      "cell_type": "code",
      "metadata": {
        "id": "jCjpOmLygGuj"
      },
      "source": [
        "bankfull.balancetransf = bankfull.balancetransf.apply(lambda x: round(x,3))"
      ],
      "execution_count": 29,
      "outputs": []
    },
    {
      "cell_type": "code",
      "metadata": {
        "colab": {
          "base_uri": "https://localhost:8080/",
          "height": 224
        },
        "id": "WqniNr0XUc02",
        "outputId": "cf3b4e0b-d9c3-4260-9dab-86fffef3e695"
      },
      "source": [
        "bankfull.head()"
      ],
      "execution_count": 30,
      "outputs": [
        {
          "output_type": "execute_result",
          "data": {
            "text/html": [
              "<div>\n",
              "<style scoped>\n",
              "    .dataframe tbody tr th:only-of-type {\n",
              "        vertical-align: middle;\n",
              "    }\n",
              "\n",
              "    .dataframe tbody tr th {\n",
              "        vertical-align: top;\n",
              "    }\n",
              "\n",
              "    .dataframe thead th {\n",
              "        text-align: right;\n",
              "    }\n",
              "</style>\n",
              "<table border=\"1\" class=\"dataframe\">\n",
              "  <thead>\n",
              "    <tr style=\"text-align: right;\">\n",
              "      <th></th>\n",
              "      <th>age</th>\n",
              "      <th>job</th>\n",
              "      <th>marital</th>\n",
              "      <th>education</th>\n",
              "      <th>default</th>\n",
              "      <th>balance</th>\n",
              "      <th>housing</th>\n",
              "      <th>loan</th>\n",
              "      <th>contact</th>\n",
              "      <th>day</th>\n",
              "      <th>month</th>\n",
              "      <th>duration</th>\n",
              "      <th>campaign</th>\n",
              "      <th>pdays</th>\n",
              "      <th>previous</th>\n",
              "      <th>poutcome</th>\n",
              "      <th>y</th>\n",
              "      <th>L26951</th>\n",
              "      <th>balancetransf</th>\n",
              "    </tr>\n",
              "  </thead>\n",
              "  <tbody>\n",
              "    <tr>\n",
              "      <th>0</th>\n",
              "      <td>58</td>\n",
              "      <td>management</td>\n",
              "      <td>married</td>\n",
              "      <td>tertiary</td>\n",
              "      <td>no</td>\n",
              "      <td>2143</td>\n",
              "      <td>yes</td>\n",
              "      <td>no</td>\n",
              "      <td>unknown</td>\n",
              "      <td>5</td>\n",
              "      <td>may</td>\n",
              "      <td>261</td>\n",
              "      <td>1</td>\n",
              "      <td>-1</td>\n",
              "      <td>0</td>\n",
              "      <td>unknown</td>\n",
              "      <td>no</td>\n",
              "      <td>1</td>\n",
              "      <td>0.092</td>\n",
              "    </tr>\n",
              "    <tr>\n",
              "      <th>1</th>\n",
              "      <td>44</td>\n",
              "      <td>technician</td>\n",
              "      <td>single</td>\n",
              "      <td>secondary</td>\n",
              "      <td>no</td>\n",
              "      <td>29</td>\n",
              "      <td>yes</td>\n",
              "      <td>no</td>\n",
              "      <td>unknown</td>\n",
              "      <td>5</td>\n",
              "      <td>may</td>\n",
              "      <td>151</td>\n",
              "      <td>1</td>\n",
              "      <td>-1</td>\n",
              "      <td>0</td>\n",
              "      <td>unknown</td>\n",
              "      <td>no</td>\n",
              "      <td>1</td>\n",
              "      <td>0.073</td>\n",
              "    </tr>\n",
              "    <tr>\n",
              "      <th>2</th>\n",
              "      <td>33</td>\n",
              "      <td>entrepreneur</td>\n",
              "      <td>married</td>\n",
              "      <td>secondary</td>\n",
              "      <td>no</td>\n",
              "      <td>2</td>\n",
              "      <td>yes</td>\n",
              "      <td>yes</td>\n",
              "      <td>unknown</td>\n",
              "      <td>5</td>\n",
              "      <td>may</td>\n",
              "      <td>76</td>\n",
              "      <td>1</td>\n",
              "      <td>-1</td>\n",
              "      <td>0</td>\n",
              "      <td>unknown</td>\n",
              "      <td>no</td>\n",
              "      <td>0</td>\n",
              "      <td>0.073</td>\n",
              "    </tr>\n",
              "    <tr>\n",
              "      <th>3</th>\n",
              "      <td>47</td>\n",
              "      <td>blue-collar</td>\n",
              "      <td>married</td>\n",
              "      <td>unknown</td>\n",
              "      <td>no</td>\n",
              "      <td>1506</td>\n",
              "      <td>yes</td>\n",
              "      <td>no</td>\n",
              "      <td>unknown</td>\n",
              "      <td>5</td>\n",
              "      <td>may</td>\n",
              "      <td>92</td>\n",
              "      <td>1</td>\n",
              "      <td>-1</td>\n",
              "      <td>0</td>\n",
              "      <td>unknown</td>\n",
              "      <td>no</td>\n",
              "      <td>0</td>\n",
              "      <td>0.086</td>\n",
              "    </tr>\n",
              "    <tr>\n",
              "      <th>4</th>\n",
              "      <td>33</td>\n",
              "      <td>unknown</td>\n",
              "      <td>single</td>\n",
              "      <td>unknown</td>\n",
              "      <td>no</td>\n",
              "      <td>1</td>\n",
              "      <td>no</td>\n",
              "      <td>no</td>\n",
              "      <td>unknown</td>\n",
              "      <td>5</td>\n",
              "      <td>may</td>\n",
              "      <td>198</td>\n",
              "      <td>1</td>\n",
              "      <td>-1</td>\n",
              "      <td>0</td>\n",
              "      <td>unknown</td>\n",
              "      <td>no</td>\n",
              "      <td>1</td>\n",
              "      <td>0.073</td>\n",
              "    </tr>\n",
              "  </tbody>\n",
              "</table>\n",
              "</div>"
            ],
            "text/plain": [
              "   age           job  marital  education  ... poutcome   y L26951 balancetransf\n",
              "0   58    management  married   tertiary  ...  unknown  no      1         0.092\n",
              "1   44    technician   single  secondary  ...  unknown  no      1         0.073\n",
              "2   33  entrepreneur  married  secondary  ...  unknown  no      0         0.073\n",
              "3   47   blue-collar  married    unknown  ...  unknown  no      0         0.086\n",
              "4   33       unknown   single    unknown  ...  unknown  no      1         0.073\n",
              "\n",
              "[5 rows x 19 columns]"
            ]
          },
          "metadata": {
            "tags": []
          },
          "execution_count": 30
        }
      ]
    },
    {
      "cell_type": "code",
      "metadata": {
        "colab": {
          "base_uri": "https://localhost:8080/",
          "height": 224
        },
        "id": "uj3VsqkAcunT",
        "outputId": "faa5bb6b-f189-4f31-ebfe-a224e7d8f2b0"
      },
      "source": [
        "bankfull.loc[bankfull[\"loan\"] ==\"yes\", \"loantransf\"] = 1\n",
        "bankfull.loc[bankfull[\"loan\"] ==\"no\", \"loantransf\"] = 3\n",
        "bankfull.head()"
      ],
      "execution_count": 31,
      "outputs": [
        {
          "output_type": "execute_result",
          "data": {
            "text/html": [
              "<div>\n",
              "<style scoped>\n",
              "    .dataframe tbody tr th:only-of-type {\n",
              "        vertical-align: middle;\n",
              "    }\n",
              "\n",
              "    .dataframe tbody tr th {\n",
              "        vertical-align: top;\n",
              "    }\n",
              "\n",
              "    .dataframe thead th {\n",
              "        text-align: right;\n",
              "    }\n",
              "</style>\n",
              "<table border=\"1\" class=\"dataframe\">\n",
              "  <thead>\n",
              "    <tr style=\"text-align: right;\">\n",
              "      <th></th>\n",
              "      <th>age</th>\n",
              "      <th>job</th>\n",
              "      <th>marital</th>\n",
              "      <th>education</th>\n",
              "      <th>default</th>\n",
              "      <th>balance</th>\n",
              "      <th>housing</th>\n",
              "      <th>loan</th>\n",
              "      <th>contact</th>\n",
              "      <th>day</th>\n",
              "      <th>month</th>\n",
              "      <th>duration</th>\n",
              "      <th>campaign</th>\n",
              "      <th>pdays</th>\n",
              "      <th>previous</th>\n",
              "      <th>poutcome</th>\n",
              "      <th>y</th>\n",
              "      <th>L26951</th>\n",
              "      <th>balancetransf</th>\n",
              "      <th>loantransf</th>\n",
              "    </tr>\n",
              "  </thead>\n",
              "  <tbody>\n",
              "    <tr>\n",
              "      <th>0</th>\n",
              "      <td>58</td>\n",
              "      <td>management</td>\n",
              "      <td>married</td>\n",
              "      <td>tertiary</td>\n",
              "      <td>no</td>\n",
              "      <td>2143</td>\n",
              "      <td>yes</td>\n",
              "      <td>no</td>\n",
              "      <td>unknown</td>\n",
              "      <td>5</td>\n",
              "      <td>may</td>\n",
              "      <td>261</td>\n",
              "      <td>1</td>\n",
              "      <td>-1</td>\n",
              "      <td>0</td>\n",
              "      <td>unknown</td>\n",
              "      <td>no</td>\n",
              "      <td>1</td>\n",
              "      <td>0.092</td>\n",
              "      <td>3.0</td>\n",
              "    </tr>\n",
              "    <tr>\n",
              "      <th>1</th>\n",
              "      <td>44</td>\n",
              "      <td>technician</td>\n",
              "      <td>single</td>\n",
              "      <td>secondary</td>\n",
              "      <td>no</td>\n",
              "      <td>29</td>\n",
              "      <td>yes</td>\n",
              "      <td>no</td>\n",
              "      <td>unknown</td>\n",
              "      <td>5</td>\n",
              "      <td>may</td>\n",
              "      <td>151</td>\n",
              "      <td>1</td>\n",
              "      <td>-1</td>\n",
              "      <td>0</td>\n",
              "      <td>unknown</td>\n",
              "      <td>no</td>\n",
              "      <td>1</td>\n",
              "      <td>0.073</td>\n",
              "      <td>3.0</td>\n",
              "    </tr>\n",
              "    <tr>\n",
              "      <th>2</th>\n",
              "      <td>33</td>\n",
              "      <td>entrepreneur</td>\n",
              "      <td>married</td>\n",
              "      <td>secondary</td>\n",
              "      <td>no</td>\n",
              "      <td>2</td>\n",
              "      <td>yes</td>\n",
              "      <td>yes</td>\n",
              "      <td>unknown</td>\n",
              "      <td>5</td>\n",
              "      <td>may</td>\n",
              "      <td>76</td>\n",
              "      <td>1</td>\n",
              "      <td>-1</td>\n",
              "      <td>0</td>\n",
              "      <td>unknown</td>\n",
              "      <td>no</td>\n",
              "      <td>0</td>\n",
              "      <td>0.073</td>\n",
              "      <td>1.0</td>\n",
              "    </tr>\n",
              "    <tr>\n",
              "      <th>3</th>\n",
              "      <td>47</td>\n",
              "      <td>blue-collar</td>\n",
              "      <td>married</td>\n",
              "      <td>unknown</td>\n",
              "      <td>no</td>\n",
              "      <td>1506</td>\n",
              "      <td>yes</td>\n",
              "      <td>no</td>\n",
              "      <td>unknown</td>\n",
              "      <td>5</td>\n",
              "      <td>may</td>\n",
              "      <td>92</td>\n",
              "      <td>1</td>\n",
              "      <td>-1</td>\n",
              "      <td>0</td>\n",
              "      <td>unknown</td>\n",
              "      <td>no</td>\n",
              "      <td>0</td>\n",
              "      <td>0.086</td>\n",
              "      <td>3.0</td>\n",
              "    </tr>\n",
              "    <tr>\n",
              "      <th>4</th>\n",
              "      <td>33</td>\n",
              "      <td>unknown</td>\n",
              "      <td>single</td>\n",
              "      <td>unknown</td>\n",
              "      <td>no</td>\n",
              "      <td>1</td>\n",
              "      <td>no</td>\n",
              "      <td>no</td>\n",
              "      <td>unknown</td>\n",
              "      <td>5</td>\n",
              "      <td>may</td>\n",
              "      <td>198</td>\n",
              "      <td>1</td>\n",
              "      <td>-1</td>\n",
              "      <td>0</td>\n",
              "      <td>unknown</td>\n",
              "      <td>no</td>\n",
              "      <td>1</td>\n",
              "      <td>0.073</td>\n",
              "      <td>3.0</td>\n",
              "    </tr>\n",
              "  </tbody>\n",
              "</table>\n",
              "</div>"
            ],
            "text/plain": [
              "   age           job  marital  education  ...   y  L26951 balancetransf loantransf\n",
              "0   58    management  married   tertiary  ...  no       1         0.092        3.0\n",
              "1   44    technician   single  secondary  ...  no       1         0.073        3.0\n",
              "2   33  entrepreneur  married  secondary  ...  no       0         0.073        1.0\n",
              "3   47   blue-collar  married    unknown  ...  no       0         0.086        3.0\n",
              "4   33       unknown   single    unknown  ...  no       1         0.073        3.0\n",
              "\n",
              "[5 rows x 20 columns]"
            ]
          },
          "metadata": {
            "tags": []
          },
          "execution_count": 31
        }
      ]
    },
    {
      "cell_type": "code",
      "metadata": {
        "colab": {
          "base_uri": "https://localhost:8080/",
          "height": 224
        },
        "id": "jRXPvshgdNfa",
        "outputId": "35ce6abe-d3e1-41c2-e98b-adf380b73367"
      },
      "source": [
        "bankfull.loc[bankfull[\"housing\"] == \"yes\", \"housingtransf\"] = 3\n",
        "bankfull.loc[bankfull[\"housing\"] == \"no\", \"housingtransf\"] = 1\n",
        "bankfull.head()"
      ],
      "execution_count": 32,
      "outputs": [
        {
          "output_type": "execute_result",
          "data": {
            "text/html": [
              "<div>\n",
              "<style scoped>\n",
              "    .dataframe tbody tr th:only-of-type {\n",
              "        vertical-align: middle;\n",
              "    }\n",
              "\n",
              "    .dataframe tbody tr th {\n",
              "        vertical-align: top;\n",
              "    }\n",
              "\n",
              "    .dataframe thead th {\n",
              "        text-align: right;\n",
              "    }\n",
              "</style>\n",
              "<table border=\"1\" class=\"dataframe\">\n",
              "  <thead>\n",
              "    <tr style=\"text-align: right;\">\n",
              "      <th></th>\n",
              "      <th>age</th>\n",
              "      <th>job</th>\n",
              "      <th>marital</th>\n",
              "      <th>education</th>\n",
              "      <th>default</th>\n",
              "      <th>balance</th>\n",
              "      <th>housing</th>\n",
              "      <th>loan</th>\n",
              "      <th>contact</th>\n",
              "      <th>day</th>\n",
              "      <th>month</th>\n",
              "      <th>duration</th>\n",
              "      <th>campaign</th>\n",
              "      <th>pdays</th>\n",
              "      <th>previous</th>\n",
              "      <th>poutcome</th>\n",
              "      <th>y</th>\n",
              "      <th>L26951</th>\n",
              "      <th>balancetransf</th>\n",
              "      <th>loantransf</th>\n",
              "      <th>housingtransf</th>\n",
              "    </tr>\n",
              "  </thead>\n",
              "  <tbody>\n",
              "    <tr>\n",
              "      <th>0</th>\n",
              "      <td>58</td>\n",
              "      <td>management</td>\n",
              "      <td>married</td>\n",
              "      <td>tertiary</td>\n",
              "      <td>no</td>\n",
              "      <td>2143</td>\n",
              "      <td>yes</td>\n",
              "      <td>no</td>\n",
              "      <td>unknown</td>\n",
              "      <td>5</td>\n",
              "      <td>may</td>\n",
              "      <td>261</td>\n",
              "      <td>1</td>\n",
              "      <td>-1</td>\n",
              "      <td>0</td>\n",
              "      <td>unknown</td>\n",
              "      <td>no</td>\n",
              "      <td>1</td>\n",
              "      <td>0.092</td>\n",
              "      <td>3.0</td>\n",
              "      <td>3.0</td>\n",
              "    </tr>\n",
              "    <tr>\n",
              "      <th>1</th>\n",
              "      <td>44</td>\n",
              "      <td>technician</td>\n",
              "      <td>single</td>\n",
              "      <td>secondary</td>\n",
              "      <td>no</td>\n",
              "      <td>29</td>\n",
              "      <td>yes</td>\n",
              "      <td>no</td>\n",
              "      <td>unknown</td>\n",
              "      <td>5</td>\n",
              "      <td>may</td>\n",
              "      <td>151</td>\n",
              "      <td>1</td>\n",
              "      <td>-1</td>\n",
              "      <td>0</td>\n",
              "      <td>unknown</td>\n",
              "      <td>no</td>\n",
              "      <td>1</td>\n",
              "      <td>0.073</td>\n",
              "      <td>3.0</td>\n",
              "      <td>3.0</td>\n",
              "    </tr>\n",
              "    <tr>\n",
              "      <th>2</th>\n",
              "      <td>33</td>\n",
              "      <td>entrepreneur</td>\n",
              "      <td>married</td>\n",
              "      <td>secondary</td>\n",
              "      <td>no</td>\n",
              "      <td>2</td>\n",
              "      <td>yes</td>\n",
              "      <td>yes</td>\n",
              "      <td>unknown</td>\n",
              "      <td>5</td>\n",
              "      <td>may</td>\n",
              "      <td>76</td>\n",
              "      <td>1</td>\n",
              "      <td>-1</td>\n",
              "      <td>0</td>\n",
              "      <td>unknown</td>\n",
              "      <td>no</td>\n",
              "      <td>0</td>\n",
              "      <td>0.073</td>\n",
              "      <td>1.0</td>\n",
              "      <td>3.0</td>\n",
              "    </tr>\n",
              "    <tr>\n",
              "      <th>3</th>\n",
              "      <td>47</td>\n",
              "      <td>blue-collar</td>\n",
              "      <td>married</td>\n",
              "      <td>unknown</td>\n",
              "      <td>no</td>\n",
              "      <td>1506</td>\n",
              "      <td>yes</td>\n",
              "      <td>no</td>\n",
              "      <td>unknown</td>\n",
              "      <td>5</td>\n",
              "      <td>may</td>\n",
              "      <td>92</td>\n",
              "      <td>1</td>\n",
              "      <td>-1</td>\n",
              "      <td>0</td>\n",
              "      <td>unknown</td>\n",
              "      <td>no</td>\n",
              "      <td>0</td>\n",
              "      <td>0.086</td>\n",
              "      <td>3.0</td>\n",
              "      <td>3.0</td>\n",
              "    </tr>\n",
              "    <tr>\n",
              "      <th>4</th>\n",
              "      <td>33</td>\n",
              "      <td>unknown</td>\n",
              "      <td>single</td>\n",
              "      <td>unknown</td>\n",
              "      <td>no</td>\n",
              "      <td>1</td>\n",
              "      <td>no</td>\n",
              "      <td>no</td>\n",
              "      <td>unknown</td>\n",
              "      <td>5</td>\n",
              "      <td>may</td>\n",
              "      <td>198</td>\n",
              "      <td>1</td>\n",
              "      <td>-1</td>\n",
              "      <td>0</td>\n",
              "      <td>unknown</td>\n",
              "      <td>no</td>\n",
              "      <td>1</td>\n",
              "      <td>0.073</td>\n",
              "      <td>3.0</td>\n",
              "      <td>1.0</td>\n",
              "    </tr>\n",
              "  </tbody>\n",
              "</table>\n",
              "</div>"
            ],
            "text/plain": [
              "   age           job  marital  ... balancetransf loantransf  housingtransf\n",
              "0   58    management  married  ...         0.092        3.0            3.0\n",
              "1   44    technician   single  ...         0.073        3.0            3.0\n",
              "2   33  entrepreneur  married  ...         0.073        1.0            3.0\n",
              "3   47   blue-collar  married  ...         0.086        3.0            3.0\n",
              "4   33       unknown   single  ...         0.073        3.0            1.0\n",
              "\n",
              "[5 rows x 21 columns]"
            ]
          },
          "metadata": {
            "tags": []
          },
          "execution_count": 32
        }
      ]
    },
    {
      "cell_type": "code",
      "metadata": {
        "colab": {
          "base_uri": "https://localhost:8080/"
        },
        "id": "03EHaXh3dwuC",
        "outputId": "24255cb7-d799-4d3b-8d8a-fa7620d47c01"
      },
      "source": [
        "bankfull.info()"
      ],
      "execution_count": 33,
      "outputs": [
        {
          "output_type": "stream",
          "text": [
            "<class 'pandas.core.frame.DataFrame'>\n",
            "Int64Index: 45211 entries, 0 to 45210\n",
            "Data columns (total 21 columns):\n",
            " #   Column         Non-Null Count  Dtype  \n",
            "---  ------         --------------  -----  \n",
            " 0   age            45211 non-null  int64  \n",
            " 1   job            45211 non-null  object \n",
            " 2   marital        45211 non-null  object \n",
            " 3   education      45211 non-null  object \n",
            " 4   default        45211 non-null  object \n",
            " 5   balance        45211 non-null  int64  \n",
            " 6   housing        45211 non-null  object \n",
            " 7   loan           45211 non-null  object \n",
            " 8   contact        45211 non-null  object \n",
            " 9   day            45211 non-null  int64  \n",
            " 10  month          45211 non-null  object \n",
            " 11  duration       45211 non-null  int64  \n",
            " 12  campaign       45211 non-null  int64  \n",
            " 13  pdays          45211 non-null  int64  \n",
            " 14  previous       45211 non-null  int64  \n",
            " 15  poutcome       45211 non-null  object \n",
            " 16  y              45211 non-null  object \n",
            " 17  L26951         45211 non-null  int64  \n",
            " 18  balancetransf  45211 non-null  float64\n",
            " 19  loantransf     45211 non-null  float64\n",
            " 20  housingtransf  45211 non-null  float64\n",
            "dtypes: float64(3), int64(8), object(10)\n",
            "memory usage: 7.6+ MB\n"
          ],
          "name": "stdout"
        }
      ]
    },
    {
      "cell_type": "code",
      "metadata": {
        "id": "cYyDBZRygWli"
      },
      "source": [
        "bankfull[\"ind\"] = bankfull.balancetransf + bankfull.loantransf + bankfull.housingtransf"
      ],
      "execution_count": 34,
      "outputs": []
    },
    {
      "cell_type": "code",
      "metadata": {
        "colab": {
          "base_uri": "https://localhost:8080/"
        },
        "id": "O3fWYywchJ-Z",
        "outputId": "ad2d6be8-91fe-4757-ff7f-ba21da238499"
      },
      "source": [
        "ind025 = round(bankfull[\"ind\"].quantile(q=0.25),3)\n",
        "ind025"
      ],
      "execution_count": 35,
      "outputs": [
        {
          "output_type": "execute_result",
          "data": {
            "text/plain": [
              "4.075"
            ]
          },
          "metadata": {
            "tags": []
          },
          "execution_count": 35
        }
      ]
    },
    {
      "cell_type": "code",
      "metadata": {
        "colab": {
          "base_uri": "https://localhost:8080/"
        },
        "id": "k_2Kfuo8hWuf",
        "outputId": "582296ee-04f2-430b-e6ca-79b12f66ffd6"
      },
      "source": [
        "ind050 = round(bankfull[\"ind\"].quantile(q=0.50),3)\n",
        "ind050"
      ],
      "execution_count": 36,
      "outputs": [
        {
          "output_type": "execute_result",
          "data": {
            "text/plain": [
              "4.114"
            ]
          },
          "metadata": {
            "tags": []
          },
          "execution_count": 36
        }
      ]
    },
    {
      "cell_type": "code",
      "metadata": {
        "colab": {
          "base_uri": "https://localhost:8080/"
        },
        "id": "bTUeHogahdSH",
        "outputId": "546e776e-3704-494f-d208-f268c2b79aa7"
      },
      "source": [
        "ind075 = round(bankfull[\"ind\"].quantile(q=0.75),3)\n",
        "ind075"
      ],
      "execution_count": 37,
      "outputs": [
        {
          "output_type": "execute_result",
          "data": {
            "text/plain": [
              "6.076"
            ]
          },
          "metadata": {
            "tags": []
          },
          "execution_count": 37
        }
      ]
    },
    {
      "cell_type": "markdown",
      "metadata": {
        "id": "NTpPmE8dj7DC"
      },
      "source": [
        "#### Creación de Cuantiles basados ​​en Indice de Activos"
      ]
    },
    {
      "cell_type": "code",
      "metadata": {
        "colab": {
          "base_uri": "https://localhost:8080/",
          "height": 224
        },
        "id": "_ucIKqknj6Ew",
        "outputId": "e6269d49-e282-4034-bcb6-96561599d251"
      },
      "source": [
        "bankfull[\"qInd\"] = \"1q\"\n",
        "bankfull.loc[(bankfull[\"ind\"] > ind025) & (bankfull[\"ind\"] < ind050), \"qInd\"] = \"2q\"\n",
        "bankfull.loc[(bankfull[\"ind\"] > ind050) & (bankfull[\"ind\"] < ind075), \"qInd\"] = \"3q\"\n",
        "bankfull.loc[bankfull[\"ind\"] > ind075, \"qInd\"] = \"4q\"\n",
        "bankfull.head()"
      ],
      "execution_count": 38,
      "outputs": [
        {
          "output_type": "execute_result",
          "data": {
            "text/html": [
              "<div>\n",
              "<style scoped>\n",
              "    .dataframe tbody tr th:only-of-type {\n",
              "        vertical-align: middle;\n",
              "    }\n",
              "\n",
              "    .dataframe tbody tr th {\n",
              "        vertical-align: top;\n",
              "    }\n",
              "\n",
              "    .dataframe thead th {\n",
              "        text-align: right;\n",
              "    }\n",
              "</style>\n",
              "<table border=\"1\" class=\"dataframe\">\n",
              "  <thead>\n",
              "    <tr style=\"text-align: right;\">\n",
              "      <th></th>\n",
              "      <th>age</th>\n",
              "      <th>job</th>\n",
              "      <th>marital</th>\n",
              "      <th>education</th>\n",
              "      <th>default</th>\n",
              "      <th>balance</th>\n",
              "      <th>housing</th>\n",
              "      <th>loan</th>\n",
              "      <th>contact</th>\n",
              "      <th>day</th>\n",
              "      <th>month</th>\n",
              "      <th>duration</th>\n",
              "      <th>campaign</th>\n",
              "      <th>pdays</th>\n",
              "      <th>previous</th>\n",
              "      <th>poutcome</th>\n",
              "      <th>y</th>\n",
              "      <th>L26951</th>\n",
              "      <th>balancetransf</th>\n",
              "      <th>loantransf</th>\n",
              "      <th>housingtransf</th>\n",
              "      <th>ind</th>\n",
              "      <th>qInd</th>\n",
              "    </tr>\n",
              "  </thead>\n",
              "  <tbody>\n",
              "    <tr>\n",
              "      <th>0</th>\n",
              "      <td>58</td>\n",
              "      <td>management</td>\n",
              "      <td>married</td>\n",
              "      <td>tertiary</td>\n",
              "      <td>no</td>\n",
              "      <td>2143</td>\n",
              "      <td>yes</td>\n",
              "      <td>no</td>\n",
              "      <td>unknown</td>\n",
              "      <td>5</td>\n",
              "      <td>may</td>\n",
              "      <td>261</td>\n",
              "      <td>1</td>\n",
              "      <td>-1</td>\n",
              "      <td>0</td>\n",
              "      <td>unknown</td>\n",
              "      <td>no</td>\n",
              "      <td>1</td>\n",
              "      <td>0.092</td>\n",
              "      <td>3.0</td>\n",
              "      <td>3.0</td>\n",
              "      <td>6.092</td>\n",
              "      <td>4q</td>\n",
              "    </tr>\n",
              "    <tr>\n",
              "      <th>1</th>\n",
              "      <td>44</td>\n",
              "      <td>technician</td>\n",
              "      <td>single</td>\n",
              "      <td>secondary</td>\n",
              "      <td>no</td>\n",
              "      <td>29</td>\n",
              "      <td>yes</td>\n",
              "      <td>no</td>\n",
              "      <td>unknown</td>\n",
              "      <td>5</td>\n",
              "      <td>may</td>\n",
              "      <td>151</td>\n",
              "      <td>1</td>\n",
              "      <td>-1</td>\n",
              "      <td>0</td>\n",
              "      <td>unknown</td>\n",
              "      <td>no</td>\n",
              "      <td>1</td>\n",
              "      <td>0.073</td>\n",
              "      <td>3.0</td>\n",
              "      <td>3.0</td>\n",
              "      <td>6.073</td>\n",
              "      <td>3q</td>\n",
              "    </tr>\n",
              "    <tr>\n",
              "      <th>2</th>\n",
              "      <td>33</td>\n",
              "      <td>entrepreneur</td>\n",
              "      <td>married</td>\n",
              "      <td>secondary</td>\n",
              "      <td>no</td>\n",
              "      <td>2</td>\n",
              "      <td>yes</td>\n",
              "      <td>yes</td>\n",
              "      <td>unknown</td>\n",
              "      <td>5</td>\n",
              "      <td>may</td>\n",
              "      <td>76</td>\n",
              "      <td>1</td>\n",
              "      <td>-1</td>\n",
              "      <td>0</td>\n",
              "      <td>unknown</td>\n",
              "      <td>no</td>\n",
              "      <td>0</td>\n",
              "      <td>0.073</td>\n",
              "      <td>1.0</td>\n",
              "      <td>3.0</td>\n",
              "      <td>4.073</td>\n",
              "      <td>1q</td>\n",
              "    </tr>\n",
              "    <tr>\n",
              "      <th>3</th>\n",
              "      <td>47</td>\n",
              "      <td>blue-collar</td>\n",
              "      <td>married</td>\n",
              "      <td>unknown</td>\n",
              "      <td>no</td>\n",
              "      <td>1506</td>\n",
              "      <td>yes</td>\n",
              "      <td>no</td>\n",
              "      <td>unknown</td>\n",
              "      <td>5</td>\n",
              "      <td>may</td>\n",
              "      <td>92</td>\n",
              "      <td>1</td>\n",
              "      <td>-1</td>\n",
              "      <td>0</td>\n",
              "      <td>unknown</td>\n",
              "      <td>no</td>\n",
              "      <td>0</td>\n",
              "      <td>0.086</td>\n",
              "      <td>3.0</td>\n",
              "      <td>3.0</td>\n",
              "      <td>6.086</td>\n",
              "      <td>4q</td>\n",
              "    </tr>\n",
              "    <tr>\n",
              "      <th>4</th>\n",
              "      <td>33</td>\n",
              "      <td>unknown</td>\n",
              "      <td>single</td>\n",
              "      <td>unknown</td>\n",
              "      <td>no</td>\n",
              "      <td>1</td>\n",
              "      <td>no</td>\n",
              "      <td>no</td>\n",
              "      <td>unknown</td>\n",
              "      <td>5</td>\n",
              "      <td>may</td>\n",
              "      <td>198</td>\n",
              "      <td>1</td>\n",
              "      <td>-1</td>\n",
              "      <td>0</td>\n",
              "      <td>unknown</td>\n",
              "      <td>no</td>\n",
              "      <td>1</td>\n",
              "      <td>0.073</td>\n",
              "      <td>3.0</td>\n",
              "      <td>1.0</td>\n",
              "      <td>4.073</td>\n",
              "      <td>1q</td>\n",
              "    </tr>\n",
              "  </tbody>\n",
              "</table>\n",
              "</div>"
            ],
            "text/plain": [
              "   age           job  marital  education  ... loantransf  housingtransf    ind qInd\n",
              "0   58    management  married   tertiary  ...        3.0            3.0  6.092   4q\n",
              "1   44    technician   single  secondary  ...        3.0            3.0  6.073   3q\n",
              "2   33  entrepreneur  married  secondary  ...        1.0            3.0  4.073   1q\n",
              "3   47   blue-collar  married    unknown  ...        3.0            3.0  6.086   4q\n",
              "4   33       unknown   single    unknown  ...        3.0            1.0  4.073   1q\n",
              "\n",
              "[5 rows x 23 columns]"
            ]
          },
          "metadata": {
            "tags": []
          },
          "execution_count": 38
        }
      ]
    },
    {
      "cell_type": "markdown",
      "metadata": {
        "id": "bEkJhAcwlZqN"
      },
      "source": [
        "#### Total de los Clientes Bancarios por Cuartil Indice - CBCI"
      ]
    },
    {
      "cell_type": "code",
      "metadata": {
        "colab": {
          "base_uri": "https://localhost:8080/",
          "height": 266
        },
        "id": "xSQuMeLUlcvL",
        "outputId": "c39a0bb1-ea54-4b04-8b77-4c42239fce9b"
      },
      "source": [
        "CBCI = bankfull.groupby([\"qInd\",\"loan\"])[\"loan\"].agg(TCBCI='count').reset_index()\n",
        "CBCI"
      ],
      "execution_count": 39,
      "outputs": [
        {
          "output_type": "execute_result",
          "data": {
            "text/html": [
              "<div>\n",
              "<style scoped>\n",
              "    .dataframe tbody tr th:only-of-type {\n",
              "        vertical-align: middle;\n",
              "    }\n",
              "\n",
              "    .dataframe tbody tr th {\n",
              "        vertical-align: top;\n",
              "    }\n",
              "\n",
              "    .dataframe thead th {\n",
              "        text-align: right;\n",
              "    }\n",
              "</style>\n",
              "<table border=\"1\" class=\"dataframe\">\n",
              "  <thead>\n",
              "    <tr style=\"text-align: right;\">\n",
              "      <th></th>\n",
              "      <th>qInd</th>\n",
              "      <th>loan</th>\n",
              "      <th>TCBCI</th>\n",
              "    </tr>\n",
              "  </thead>\n",
              "  <tbody>\n",
              "    <tr>\n",
              "      <th>0</th>\n",
              "      <td>1q</td>\n",
              "      <td>no</td>\n",
              "      <td>6471</td>\n",
              "    </tr>\n",
              "    <tr>\n",
              "      <th>1</th>\n",
              "      <td>1q</td>\n",
              "      <td>yes</td>\n",
              "      <td>5130</td>\n",
              "    </tr>\n",
              "    <tr>\n",
              "      <th>2</th>\n",
              "      <td>2q</td>\n",
              "      <td>no</td>\n",
              "      <td>9093</td>\n",
              "    </tr>\n",
              "    <tr>\n",
              "      <th>3</th>\n",
              "      <td>2q</td>\n",
              "      <td>yes</td>\n",
              "      <td>1950</td>\n",
              "    </tr>\n",
              "    <tr>\n",
              "      <th>4</th>\n",
              "      <td>3q</td>\n",
              "      <td>no</td>\n",
              "      <td>10254</td>\n",
              "    </tr>\n",
              "    <tr>\n",
              "      <th>5</th>\n",
              "      <td>3q</td>\n",
              "      <td>yes</td>\n",
              "      <td>164</td>\n",
              "    </tr>\n",
              "    <tr>\n",
              "      <th>6</th>\n",
              "      <td>4q</td>\n",
              "      <td>no</td>\n",
              "      <td>12149</td>\n",
              "    </tr>\n",
              "  </tbody>\n",
              "</table>\n",
              "</div>"
            ],
            "text/plain": [
              "  qInd loan  TCBCI\n",
              "0   1q   no   6471\n",
              "1   1q  yes   5130\n",
              "2   2q   no   9093\n",
              "3   2q  yes   1950\n",
              "4   3q   no  10254\n",
              "5   3q  yes    164\n",
              "6   4q   no  12149"
            ]
          },
          "metadata": {
            "tags": []
          },
          "execution_count": 39
        }
      ]
    },
    {
      "cell_type": "code",
      "metadata": {
        "colab": {
          "base_uri": "https://localhost:8080/",
          "height": 142
        },
        "id": "bXerDqLe7Pcn",
        "outputId": "75782439-0d66-4fdb-ced3-cc7bc01d2369"
      },
      "source": [
        "CBCI = CBCI.query(\"loan == 'yes'\").reset_index(drop=True)\n",
        "CBCI"
      ],
      "execution_count": 40,
      "outputs": [
        {
          "output_type": "execute_result",
          "data": {
            "text/html": [
              "<div>\n",
              "<style scoped>\n",
              "    .dataframe tbody tr th:only-of-type {\n",
              "        vertical-align: middle;\n",
              "    }\n",
              "\n",
              "    .dataframe tbody tr th {\n",
              "        vertical-align: top;\n",
              "    }\n",
              "\n",
              "    .dataframe thead th {\n",
              "        text-align: right;\n",
              "    }\n",
              "</style>\n",
              "<table border=\"1\" class=\"dataframe\">\n",
              "  <thead>\n",
              "    <tr style=\"text-align: right;\">\n",
              "      <th></th>\n",
              "      <th>qInd</th>\n",
              "      <th>loan</th>\n",
              "      <th>TCBCI</th>\n",
              "    </tr>\n",
              "  </thead>\n",
              "  <tbody>\n",
              "    <tr>\n",
              "      <th>0</th>\n",
              "      <td>1q</td>\n",
              "      <td>yes</td>\n",
              "      <td>5130</td>\n",
              "    </tr>\n",
              "    <tr>\n",
              "      <th>1</th>\n",
              "      <td>2q</td>\n",
              "      <td>yes</td>\n",
              "      <td>1950</td>\n",
              "    </tr>\n",
              "    <tr>\n",
              "      <th>2</th>\n",
              "      <td>3q</td>\n",
              "      <td>yes</td>\n",
              "      <td>164</td>\n",
              "    </tr>\n",
              "  </tbody>\n",
              "</table>\n",
              "</div>"
            ],
            "text/plain": [
              "  qInd loan  TCBCI\n",
              "0   1q  yes   5130\n",
              "1   2q  yes   1950\n",
              "2   3q  yes    164"
            ]
          },
          "metadata": {
            "tags": []
          },
          "execution_count": 40
        }
      ]
    },
    {
      "cell_type": "code",
      "metadata": {
        "colab": {
          "base_uri": "https://localhost:8080/",
          "height": 142
        },
        "id": "Y8yz83HeGn0y",
        "outputId": "f2b32fc8-dad0-4b69-d601-c674b2dc1580"
      },
      "source": [
        "CBCI[\"TCBCI%\"] = round((CBCI.TCBCI / CBCI.TCBCI.sum())*100,3)\n",
        "CBCI"
      ],
      "execution_count": 41,
      "outputs": [
        {
          "output_type": "execute_result",
          "data": {
            "text/html": [
              "<div>\n",
              "<style scoped>\n",
              "    .dataframe tbody tr th:only-of-type {\n",
              "        vertical-align: middle;\n",
              "    }\n",
              "\n",
              "    .dataframe tbody tr th {\n",
              "        vertical-align: top;\n",
              "    }\n",
              "\n",
              "    .dataframe thead th {\n",
              "        text-align: right;\n",
              "    }\n",
              "</style>\n",
              "<table border=\"1\" class=\"dataframe\">\n",
              "  <thead>\n",
              "    <tr style=\"text-align: right;\">\n",
              "      <th></th>\n",
              "      <th>qInd</th>\n",
              "      <th>loan</th>\n",
              "      <th>TCBCI</th>\n",
              "      <th>TCBCI%</th>\n",
              "    </tr>\n",
              "  </thead>\n",
              "  <tbody>\n",
              "    <tr>\n",
              "      <th>0</th>\n",
              "      <td>1q</td>\n",
              "      <td>yes</td>\n",
              "      <td>5130</td>\n",
              "      <td>70.817</td>\n",
              "    </tr>\n",
              "    <tr>\n",
              "      <th>1</th>\n",
              "      <td>2q</td>\n",
              "      <td>yes</td>\n",
              "      <td>1950</td>\n",
              "      <td>26.919</td>\n",
              "    </tr>\n",
              "    <tr>\n",
              "      <th>2</th>\n",
              "      <td>3q</td>\n",
              "      <td>yes</td>\n",
              "      <td>164</td>\n",
              "      <td>2.264</td>\n",
              "    </tr>\n",
              "  </tbody>\n",
              "</table>\n",
              "</div>"
            ],
            "text/plain": [
              "  qInd loan  TCBCI  TCBCI%\n",
              "0   1q  yes   5130  70.817\n",
              "1   2q  yes   1950  26.919\n",
              "2   3q  yes    164   2.264"
            ]
          },
          "metadata": {
            "tags": []
          },
          "execution_count": 41
        }
      ]
    },
    {
      "cell_type": "markdown",
      "metadata": {
        "id": "u16zJYrnl1X-"
      },
      "source": [
        "#### Total de los Clientes Bancarios por Cuartil Indice Desagregado - CBCID"
      ]
    },
    {
      "cell_type": "code",
      "metadata": {
        "colab": {
          "base_uri": "https://localhost:8080/",
          "height": 419
        },
        "id": "FNCvmmmll8M9",
        "outputId": "9251938d-0143-4ea3-ed4c-c4b720214542"
      },
      "source": [
        "CBCID = bankfull.groupby([\"qInd\",\"age\",\"loan\"])[\"age\"].agg(TCBCID='count').reset_index()\n",
        "CBCID"
      ],
      "execution_count": 42,
      "outputs": [
        {
          "output_type": "execute_result",
          "data": {
            "text/html": [
              "<div>\n",
              "<style scoped>\n",
              "    .dataframe tbody tr th:only-of-type {\n",
              "        vertical-align: middle;\n",
              "    }\n",
              "\n",
              "    .dataframe tbody tr th {\n",
              "        vertical-align: top;\n",
              "    }\n",
              "\n",
              "    .dataframe thead th {\n",
              "        text-align: right;\n",
              "    }\n",
              "</style>\n",
              "<table border=\"1\" class=\"dataframe\">\n",
              "  <thead>\n",
              "    <tr style=\"text-align: right;\">\n",
              "      <th></th>\n",
              "      <th>qInd</th>\n",
              "      <th>age</th>\n",
              "      <th>loan</th>\n",
              "      <th>TCBCID</th>\n",
              "    </tr>\n",
              "  </thead>\n",
              "  <tbody>\n",
              "    <tr>\n",
              "      <th>0</th>\n",
              "      <td>1q</td>\n",
              "      <td>18</td>\n",
              "      <td>no</td>\n",
              "      <td>7</td>\n",
              "    </tr>\n",
              "    <tr>\n",
              "      <th>1</th>\n",
              "      <td>1q</td>\n",
              "      <td>19</td>\n",
              "      <td>no</td>\n",
              "      <td>18</td>\n",
              "    </tr>\n",
              "    <tr>\n",
              "      <th>2</th>\n",
              "      <td>1q</td>\n",
              "      <td>20</td>\n",
              "      <td>no</td>\n",
              "      <td>20</td>\n",
              "    </tr>\n",
              "    <tr>\n",
              "      <th>3</th>\n",
              "      <td>1q</td>\n",
              "      <td>20</td>\n",
              "      <td>yes</td>\n",
              "      <td>3</td>\n",
              "    </tr>\n",
              "    <tr>\n",
              "      <th>4</th>\n",
              "      <td>1q</td>\n",
              "      <td>21</td>\n",
              "      <td>no</td>\n",
              "      <td>20</td>\n",
              "    </tr>\n",
              "    <tr>\n",
              "      <th>...</th>\n",
              "      <td>...</td>\n",
              "      <td>...</td>\n",
              "      <td>...</td>\n",
              "      <td>...</td>\n",
              "    </tr>\n",
              "    <tr>\n",
              "      <th>393</th>\n",
              "      <td>4q</td>\n",
              "      <td>74</td>\n",
              "      <td>no</td>\n",
              "      <td>1</td>\n",
              "    </tr>\n",
              "    <tr>\n",
              "      <th>394</th>\n",
              "      <td>4q</td>\n",
              "      <td>75</td>\n",
              "      <td>no</td>\n",
              "      <td>2</td>\n",
              "    </tr>\n",
              "    <tr>\n",
              "      <th>395</th>\n",
              "      <td>4q</td>\n",
              "      <td>76</td>\n",
              "      <td>no</td>\n",
              "      <td>1</td>\n",
              "    </tr>\n",
              "    <tr>\n",
              "      <th>396</th>\n",
              "      <td>4q</td>\n",
              "      <td>77</td>\n",
              "      <td>no</td>\n",
              "      <td>2</td>\n",
              "    </tr>\n",
              "    <tr>\n",
              "      <th>397</th>\n",
              "      <td>4q</td>\n",
              "      <td>78</td>\n",
              "      <td>no</td>\n",
              "      <td>1</td>\n",
              "    </tr>\n",
              "  </tbody>\n",
              "</table>\n",
              "<p>398 rows × 4 columns</p>\n",
              "</div>"
            ],
            "text/plain": [
              "    qInd  age loan  TCBCID\n",
              "0     1q   18   no       7\n",
              "1     1q   19   no      18\n",
              "2     1q   20   no      20\n",
              "3     1q   20  yes       3\n",
              "4     1q   21   no      20\n",
              "..   ...  ...  ...     ...\n",
              "393   4q   74   no       1\n",
              "394   4q   75   no       2\n",
              "395   4q   76   no       1\n",
              "396   4q   77   no       2\n",
              "397   4q   78   no       1\n",
              "\n",
              "[398 rows x 4 columns]"
            ]
          },
          "metadata": {
            "tags": []
          },
          "execution_count": 42
        }
      ]
    },
    {
      "cell_type": "code",
      "metadata": {
        "colab": {
          "base_uri": "https://localhost:8080/",
          "height": 419
        },
        "id": "Fx1Oc9gC7pP3",
        "outputId": "2d06c7ec-df57-4ada-873f-c044155e18e3"
      },
      "source": [
        "CBCID = CBCID.query(\"loan == 'yes'\").reset_index(drop=True)\n",
        "CBCID"
      ],
      "execution_count": 43,
      "outputs": [
        {
          "output_type": "execute_result",
          "data": {
            "text/html": [
              "<div>\n",
              "<style scoped>\n",
              "    .dataframe tbody tr th:only-of-type {\n",
              "        vertical-align: middle;\n",
              "    }\n",
              "\n",
              "    .dataframe tbody tr th {\n",
              "        vertical-align: top;\n",
              "    }\n",
              "\n",
              "    .dataframe thead th {\n",
              "        text-align: right;\n",
              "    }\n",
              "</style>\n",
              "<table border=\"1\" class=\"dataframe\">\n",
              "  <thead>\n",
              "    <tr style=\"text-align: right;\">\n",
              "      <th></th>\n",
              "      <th>qInd</th>\n",
              "      <th>age</th>\n",
              "      <th>loan</th>\n",
              "      <th>TCBCID</th>\n",
              "    </tr>\n",
              "  </thead>\n",
              "  <tbody>\n",
              "    <tr>\n",
              "      <th>0</th>\n",
              "      <td>1q</td>\n",
              "      <td>20</td>\n",
              "      <td>yes</td>\n",
              "      <td>3</td>\n",
              "    </tr>\n",
              "    <tr>\n",
              "      <th>1</th>\n",
              "      <td>1q</td>\n",
              "      <td>21</td>\n",
              "      <td>yes</td>\n",
              "      <td>8</td>\n",
              "    </tr>\n",
              "    <tr>\n",
              "      <th>2</th>\n",
              "      <td>1q</td>\n",
              "      <td>22</td>\n",
              "      <td>yes</td>\n",
              "      <td>9</td>\n",
              "    </tr>\n",
              "    <tr>\n",
              "      <th>3</th>\n",
              "      <td>1q</td>\n",
              "      <td>23</td>\n",
              "      <td>yes</td>\n",
              "      <td>13</td>\n",
              "    </tr>\n",
              "    <tr>\n",
              "      <th>4</th>\n",
              "      <td>1q</td>\n",
              "      <td>24</td>\n",
              "      <td>yes</td>\n",
              "      <td>25</td>\n",
              "    </tr>\n",
              "    <tr>\n",
              "      <th>...</th>\n",
              "      <td>...</td>\n",
              "      <td>...</td>\n",
              "      <td>...</td>\n",
              "      <td>...</td>\n",
              "    </tr>\n",
              "    <tr>\n",
              "      <th>118</th>\n",
              "      <td>3q</td>\n",
              "      <td>56</td>\n",
              "      <td>yes</td>\n",
              "      <td>3</td>\n",
              "    </tr>\n",
              "    <tr>\n",
              "      <th>119</th>\n",
              "      <td>3q</td>\n",
              "      <td>57</td>\n",
              "      <td>yes</td>\n",
              "      <td>4</td>\n",
              "    </tr>\n",
              "    <tr>\n",
              "      <th>120</th>\n",
              "      <td>3q</td>\n",
              "      <td>58</td>\n",
              "      <td>yes</td>\n",
              "      <td>1</td>\n",
              "    </tr>\n",
              "    <tr>\n",
              "      <th>121</th>\n",
              "      <td>3q</td>\n",
              "      <td>59</td>\n",
              "      <td>yes</td>\n",
              "      <td>1</td>\n",
              "    </tr>\n",
              "    <tr>\n",
              "      <th>122</th>\n",
              "      <td>3q</td>\n",
              "      <td>60</td>\n",
              "      <td>yes</td>\n",
              "      <td>2</td>\n",
              "    </tr>\n",
              "  </tbody>\n",
              "</table>\n",
              "<p>123 rows × 4 columns</p>\n",
              "</div>"
            ],
            "text/plain": [
              "    qInd  age loan  TCBCID\n",
              "0     1q   20  yes       3\n",
              "1     1q   21  yes       8\n",
              "2     1q   22  yes       9\n",
              "3     1q   23  yes      13\n",
              "4     1q   24  yes      25\n",
              "..   ...  ...  ...     ...\n",
              "118   3q   56  yes       3\n",
              "119   3q   57  yes       4\n",
              "120   3q   58  yes       1\n",
              "121   3q   59  yes       1\n",
              "122   3q   60  yes       2\n",
              "\n",
              "[123 rows x 4 columns]"
            ]
          },
          "metadata": {
            "tags": []
          },
          "execution_count": 43
        }
      ]
    },
    {
      "cell_type": "code",
      "metadata": {
        "colab": {
          "base_uri": "https://localhost:8080/",
          "height": 419
        },
        "id": "6yElj7pqN2Zs",
        "outputId": "4d15a4be-6f74-4d10-867e-5ed0817f9049"
      },
      "source": [
        "CBCID[\"TCBCID%\"] = round((CBCID.TCBCID / CBCID.TCBCID.sum())*100,3)\n",
        "CBCID"
      ],
      "execution_count": 44,
      "outputs": [
        {
          "output_type": "execute_result",
          "data": {
            "text/html": [
              "<div>\n",
              "<style scoped>\n",
              "    .dataframe tbody tr th:only-of-type {\n",
              "        vertical-align: middle;\n",
              "    }\n",
              "\n",
              "    .dataframe tbody tr th {\n",
              "        vertical-align: top;\n",
              "    }\n",
              "\n",
              "    .dataframe thead th {\n",
              "        text-align: right;\n",
              "    }\n",
              "</style>\n",
              "<table border=\"1\" class=\"dataframe\">\n",
              "  <thead>\n",
              "    <tr style=\"text-align: right;\">\n",
              "      <th></th>\n",
              "      <th>qInd</th>\n",
              "      <th>age</th>\n",
              "      <th>loan</th>\n",
              "      <th>TCBCID</th>\n",
              "      <th>TCBCID%</th>\n",
              "    </tr>\n",
              "  </thead>\n",
              "  <tbody>\n",
              "    <tr>\n",
              "      <th>0</th>\n",
              "      <td>1q</td>\n",
              "      <td>20</td>\n",
              "      <td>yes</td>\n",
              "      <td>3</td>\n",
              "      <td>0.041</td>\n",
              "    </tr>\n",
              "    <tr>\n",
              "      <th>1</th>\n",
              "      <td>1q</td>\n",
              "      <td>21</td>\n",
              "      <td>yes</td>\n",
              "      <td>8</td>\n",
              "      <td>0.110</td>\n",
              "    </tr>\n",
              "    <tr>\n",
              "      <th>2</th>\n",
              "      <td>1q</td>\n",
              "      <td>22</td>\n",
              "      <td>yes</td>\n",
              "      <td>9</td>\n",
              "      <td>0.124</td>\n",
              "    </tr>\n",
              "    <tr>\n",
              "      <th>3</th>\n",
              "      <td>1q</td>\n",
              "      <td>23</td>\n",
              "      <td>yes</td>\n",
              "      <td>13</td>\n",
              "      <td>0.179</td>\n",
              "    </tr>\n",
              "    <tr>\n",
              "      <th>4</th>\n",
              "      <td>1q</td>\n",
              "      <td>24</td>\n",
              "      <td>yes</td>\n",
              "      <td>25</td>\n",
              "      <td>0.345</td>\n",
              "    </tr>\n",
              "    <tr>\n",
              "      <th>...</th>\n",
              "      <td>...</td>\n",
              "      <td>...</td>\n",
              "      <td>...</td>\n",
              "      <td>...</td>\n",
              "      <td>...</td>\n",
              "    </tr>\n",
              "    <tr>\n",
              "      <th>118</th>\n",
              "      <td>3q</td>\n",
              "      <td>56</td>\n",
              "      <td>yes</td>\n",
              "      <td>3</td>\n",
              "      <td>0.041</td>\n",
              "    </tr>\n",
              "    <tr>\n",
              "      <th>119</th>\n",
              "      <td>3q</td>\n",
              "      <td>57</td>\n",
              "      <td>yes</td>\n",
              "      <td>4</td>\n",
              "      <td>0.055</td>\n",
              "    </tr>\n",
              "    <tr>\n",
              "      <th>120</th>\n",
              "      <td>3q</td>\n",
              "      <td>58</td>\n",
              "      <td>yes</td>\n",
              "      <td>1</td>\n",
              "      <td>0.014</td>\n",
              "    </tr>\n",
              "    <tr>\n",
              "      <th>121</th>\n",
              "      <td>3q</td>\n",
              "      <td>59</td>\n",
              "      <td>yes</td>\n",
              "      <td>1</td>\n",
              "      <td>0.014</td>\n",
              "    </tr>\n",
              "    <tr>\n",
              "      <th>122</th>\n",
              "      <td>3q</td>\n",
              "      <td>60</td>\n",
              "      <td>yes</td>\n",
              "      <td>2</td>\n",
              "      <td>0.028</td>\n",
              "    </tr>\n",
              "  </tbody>\n",
              "</table>\n",
              "<p>123 rows × 5 columns</p>\n",
              "</div>"
            ],
            "text/plain": [
              "    qInd  age loan  TCBCID  TCBCID%\n",
              "0     1q   20  yes       3    0.041\n",
              "1     1q   21  yes       8    0.110\n",
              "2     1q   22  yes       9    0.124\n",
              "3     1q   23  yes      13    0.179\n",
              "4     1q   24  yes      25    0.345\n",
              "..   ...  ...  ...     ...      ...\n",
              "118   3q   56  yes       3    0.041\n",
              "119   3q   57  yes       4    0.055\n",
              "120   3q   58  yes       1    0.014\n",
              "121   3q   59  yes       1    0.014\n",
              "122   3q   60  yes       2    0.028\n",
              "\n",
              "[123 rows x 5 columns]"
            ]
          },
          "metadata": {
            "tags": []
          },
          "execution_count": 44
        }
      ]
    },
    {
      "cell_type": "markdown",
      "metadata": {
        "id": "xhhKBKCvmGjN"
      },
      "source": [
        "#### Fusionando los DataFrame"
      ]
    },
    {
      "cell_type": "code",
      "metadata": {
        "colab": {
          "base_uri": "https://localhost:8080/",
          "height": 419
        },
        "id": "VTPor_TVmLno",
        "outputId": "9424a263-f1d8-45fb-93ae-7594a99d6bdd"
      },
      "source": [
        "ClientesIndice = pd.merge(CBCID, CBCI, on = [\"qInd\"])\n",
        "ClientesIndice = ClientesIndice.drop([\"loan_x\",\"TCBCID%\",\"loan_y\",\"TCBCI%\"], axis=1)\n",
        "ClientesIndice"
      ],
      "execution_count": 45,
      "outputs": [
        {
          "output_type": "execute_result",
          "data": {
            "text/html": [
              "<div>\n",
              "<style scoped>\n",
              "    .dataframe tbody tr th:only-of-type {\n",
              "        vertical-align: middle;\n",
              "    }\n",
              "\n",
              "    .dataframe tbody tr th {\n",
              "        vertical-align: top;\n",
              "    }\n",
              "\n",
              "    .dataframe thead th {\n",
              "        text-align: right;\n",
              "    }\n",
              "</style>\n",
              "<table border=\"1\" class=\"dataframe\">\n",
              "  <thead>\n",
              "    <tr style=\"text-align: right;\">\n",
              "      <th></th>\n",
              "      <th>qInd</th>\n",
              "      <th>age</th>\n",
              "      <th>TCBCID</th>\n",
              "      <th>TCBCI</th>\n",
              "    </tr>\n",
              "  </thead>\n",
              "  <tbody>\n",
              "    <tr>\n",
              "      <th>0</th>\n",
              "      <td>1q</td>\n",
              "      <td>20</td>\n",
              "      <td>3</td>\n",
              "      <td>5130</td>\n",
              "    </tr>\n",
              "    <tr>\n",
              "      <th>1</th>\n",
              "      <td>1q</td>\n",
              "      <td>21</td>\n",
              "      <td>8</td>\n",
              "      <td>5130</td>\n",
              "    </tr>\n",
              "    <tr>\n",
              "      <th>2</th>\n",
              "      <td>1q</td>\n",
              "      <td>22</td>\n",
              "      <td>9</td>\n",
              "      <td>5130</td>\n",
              "    </tr>\n",
              "    <tr>\n",
              "      <th>3</th>\n",
              "      <td>1q</td>\n",
              "      <td>23</td>\n",
              "      <td>13</td>\n",
              "      <td>5130</td>\n",
              "    </tr>\n",
              "    <tr>\n",
              "      <th>4</th>\n",
              "      <td>1q</td>\n",
              "      <td>24</td>\n",
              "      <td>25</td>\n",
              "      <td>5130</td>\n",
              "    </tr>\n",
              "    <tr>\n",
              "      <th>...</th>\n",
              "      <td>...</td>\n",
              "      <td>...</td>\n",
              "      <td>...</td>\n",
              "      <td>...</td>\n",
              "    </tr>\n",
              "    <tr>\n",
              "      <th>118</th>\n",
              "      <td>3q</td>\n",
              "      <td>56</td>\n",
              "      <td>3</td>\n",
              "      <td>164</td>\n",
              "    </tr>\n",
              "    <tr>\n",
              "      <th>119</th>\n",
              "      <td>3q</td>\n",
              "      <td>57</td>\n",
              "      <td>4</td>\n",
              "      <td>164</td>\n",
              "    </tr>\n",
              "    <tr>\n",
              "      <th>120</th>\n",
              "      <td>3q</td>\n",
              "      <td>58</td>\n",
              "      <td>1</td>\n",
              "      <td>164</td>\n",
              "    </tr>\n",
              "    <tr>\n",
              "      <th>121</th>\n",
              "      <td>3q</td>\n",
              "      <td>59</td>\n",
              "      <td>1</td>\n",
              "      <td>164</td>\n",
              "    </tr>\n",
              "    <tr>\n",
              "      <th>122</th>\n",
              "      <td>3q</td>\n",
              "      <td>60</td>\n",
              "      <td>2</td>\n",
              "      <td>164</td>\n",
              "    </tr>\n",
              "  </tbody>\n",
              "</table>\n",
              "<p>123 rows × 4 columns</p>\n",
              "</div>"
            ],
            "text/plain": [
              "    qInd  age  TCBCID  TCBCI\n",
              "0     1q   20       3   5130\n",
              "1     1q   21       8   5130\n",
              "2     1q   22       9   5130\n",
              "3     1q   23      13   5130\n",
              "4     1q   24      25   5130\n",
              "..   ...  ...     ...    ...\n",
              "118   3q   56       3    164\n",
              "119   3q   57       4    164\n",
              "120   3q   58       1    164\n",
              "121   3q   59       1    164\n",
              "122   3q   60       2    164\n",
              "\n",
              "[123 rows x 4 columns]"
            ]
          },
          "metadata": {
            "tags": []
          },
          "execution_count": 45
        }
      ]
    },
    {
      "cell_type": "code",
      "metadata": {
        "colab": {
          "base_uri": "https://localhost:8080/",
          "height": 419
        },
        "id": "1rg9uPUdnEEp",
        "outputId": "ed3451b1-bf51-4dc3-8b54-68b7a007069c"
      },
      "source": [
        "ClientesIndice[\"Indice\"] = round((ClientesIndice.TCBCID/ClientesIndice.TCBCI)*100,3)\n",
        "ClientesIndice"
      ],
      "execution_count": 46,
      "outputs": [
        {
          "output_type": "execute_result",
          "data": {
            "text/html": [
              "<div>\n",
              "<style scoped>\n",
              "    .dataframe tbody tr th:only-of-type {\n",
              "        vertical-align: middle;\n",
              "    }\n",
              "\n",
              "    .dataframe tbody tr th {\n",
              "        vertical-align: top;\n",
              "    }\n",
              "\n",
              "    .dataframe thead th {\n",
              "        text-align: right;\n",
              "    }\n",
              "</style>\n",
              "<table border=\"1\" class=\"dataframe\">\n",
              "  <thead>\n",
              "    <tr style=\"text-align: right;\">\n",
              "      <th></th>\n",
              "      <th>qInd</th>\n",
              "      <th>age</th>\n",
              "      <th>TCBCID</th>\n",
              "      <th>TCBCI</th>\n",
              "      <th>Indice</th>\n",
              "    </tr>\n",
              "  </thead>\n",
              "  <tbody>\n",
              "    <tr>\n",
              "      <th>0</th>\n",
              "      <td>1q</td>\n",
              "      <td>20</td>\n",
              "      <td>3</td>\n",
              "      <td>5130</td>\n",
              "      <td>0.058</td>\n",
              "    </tr>\n",
              "    <tr>\n",
              "      <th>1</th>\n",
              "      <td>1q</td>\n",
              "      <td>21</td>\n",
              "      <td>8</td>\n",
              "      <td>5130</td>\n",
              "      <td>0.156</td>\n",
              "    </tr>\n",
              "    <tr>\n",
              "      <th>2</th>\n",
              "      <td>1q</td>\n",
              "      <td>22</td>\n",
              "      <td>9</td>\n",
              "      <td>5130</td>\n",
              "      <td>0.175</td>\n",
              "    </tr>\n",
              "    <tr>\n",
              "      <th>3</th>\n",
              "      <td>1q</td>\n",
              "      <td>23</td>\n",
              "      <td>13</td>\n",
              "      <td>5130</td>\n",
              "      <td>0.253</td>\n",
              "    </tr>\n",
              "    <tr>\n",
              "      <th>4</th>\n",
              "      <td>1q</td>\n",
              "      <td>24</td>\n",
              "      <td>25</td>\n",
              "      <td>5130</td>\n",
              "      <td>0.487</td>\n",
              "    </tr>\n",
              "    <tr>\n",
              "      <th>...</th>\n",
              "      <td>...</td>\n",
              "      <td>...</td>\n",
              "      <td>...</td>\n",
              "      <td>...</td>\n",
              "      <td>...</td>\n",
              "    </tr>\n",
              "    <tr>\n",
              "      <th>118</th>\n",
              "      <td>3q</td>\n",
              "      <td>56</td>\n",
              "      <td>3</td>\n",
              "      <td>164</td>\n",
              "      <td>1.829</td>\n",
              "    </tr>\n",
              "    <tr>\n",
              "      <th>119</th>\n",
              "      <td>3q</td>\n",
              "      <td>57</td>\n",
              "      <td>4</td>\n",
              "      <td>164</td>\n",
              "      <td>2.439</td>\n",
              "    </tr>\n",
              "    <tr>\n",
              "      <th>120</th>\n",
              "      <td>3q</td>\n",
              "      <td>58</td>\n",
              "      <td>1</td>\n",
              "      <td>164</td>\n",
              "      <td>0.610</td>\n",
              "    </tr>\n",
              "    <tr>\n",
              "      <th>121</th>\n",
              "      <td>3q</td>\n",
              "      <td>59</td>\n",
              "      <td>1</td>\n",
              "      <td>164</td>\n",
              "      <td>0.610</td>\n",
              "    </tr>\n",
              "    <tr>\n",
              "      <th>122</th>\n",
              "      <td>3q</td>\n",
              "      <td>60</td>\n",
              "      <td>2</td>\n",
              "      <td>164</td>\n",
              "      <td>1.220</td>\n",
              "    </tr>\n",
              "  </tbody>\n",
              "</table>\n",
              "<p>123 rows × 5 columns</p>\n",
              "</div>"
            ],
            "text/plain": [
              "    qInd  age  TCBCID  TCBCI  Indice\n",
              "0     1q   20       3   5130   0.058\n",
              "1     1q   21       8   5130   0.156\n",
              "2     1q   22       9   5130   0.175\n",
              "3     1q   23      13   5130   0.253\n",
              "4     1q   24      25   5130   0.487\n",
              "..   ...  ...     ...    ...     ...\n",
              "118   3q   56       3    164   1.829\n",
              "119   3q   57       4    164   2.439\n",
              "120   3q   58       1    164   0.610\n",
              "121   3q   59       1    164   0.610\n",
              "122   3q   60       2    164   1.220\n",
              "\n",
              "[123 rows x 5 columns]"
            ]
          },
          "metadata": {
            "tags": []
          },
          "execution_count": 46
        }
      ]
    },
    {
      "cell_type": "code",
      "metadata": {
        "colab": {
          "base_uri": "https://localhost:8080/"
        },
        "id": "yRRWrYWJQY1g",
        "outputId": "009d0213-790e-4168-ebde-e30a9d918988"
      },
      "source": [
        "ClientesIndice.max()"
      ],
      "execution_count": 47,
      "outputs": [
        {
          "output_type": "execute_result",
          "data": {
            "text/plain": [
              "qInd         3q\n",
              "age          72\n",
              "TCBCID      228\n",
              "TCBCI      5130\n",
              "Indice    9.756\n",
              "dtype: object"
            ]
          },
          "metadata": {
            "tags": []
          },
          "execution_count": 47
        }
      ]
    },
    {
      "cell_type": "code",
      "metadata": {
        "colab": {
          "base_uri": "https://localhost:8080/"
        },
        "id": "muuVYReLWV0S",
        "outputId": "7f1149a9-c3eb-41fc-d9b4-ce9e25c9d1cf"
      },
      "source": [
        "ClientesIndice.min()"
      ],
      "execution_count": 55,
      "outputs": [
        {
          "output_type": "execute_result",
          "data": {
            "text/plain": [
              "qInd         1q\n",
              "age          20\n",
              "TCBCID        1\n",
              "TCBCI       164\n",
              "Indice    0.019\n",
              "dtype: object"
            ]
          },
          "metadata": {
            "tags": []
          },
          "execution_count": 55
        }
      ]
    },
    {
      "cell_type": "code",
      "metadata": {
        "colab": {
          "base_uri": "https://localhost:8080/",
          "height": 80
        },
        "id": "xjrZWMCOTwah",
        "outputId": "6ec73a8a-b828-433c-9c6c-6ea96abedeec"
      },
      "source": [
        "ClientesIndice.query(\"Indice == '9.756'\")"
      ],
      "execution_count": 54,
      "outputs": [
        {
          "output_type": "execute_result",
          "data": {
            "text/html": [
              "<div>\n",
              "<style scoped>\n",
              "    .dataframe tbody tr th:only-of-type {\n",
              "        vertical-align: middle;\n",
              "    }\n",
              "\n",
              "    .dataframe tbody tr th {\n",
              "        vertical-align: top;\n",
              "    }\n",
              "\n",
              "    .dataframe thead th {\n",
              "        text-align: right;\n",
              "    }\n",
              "</style>\n",
              "<table border=\"1\" class=\"dataframe\">\n",
              "  <thead>\n",
              "    <tr style=\"text-align: right;\">\n",
              "      <th></th>\n",
              "      <th>qInd</th>\n",
              "      <th>age</th>\n",
              "      <th>TCBCID</th>\n",
              "      <th>TCBCI</th>\n",
              "      <th>Indice</th>\n",
              "    </tr>\n",
              "  </thead>\n",
              "  <tbody>\n",
              "    <tr>\n",
              "      <th>95</th>\n",
              "      <td>3q</td>\n",
              "      <td>32</td>\n",
              "      <td>16</td>\n",
              "      <td>164</td>\n",
              "      <td>9.756</td>\n",
              "    </tr>\n",
              "  </tbody>\n",
              "</table>\n",
              "</div>"
            ],
            "text/plain": [
              "   qInd  age  TCBCID  TCBCI  Indice\n",
              "95   3q   32      16    164   9.756"
            ]
          },
          "metadata": {
            "tags": []
          },
          "execution_count": 54
        }
      ]
    },
    {
      "cell_type": "code",
      "metadata": {
        "colab": {
          "base_uri": "https://localhost:8080/",
          "height": 173
        },
        "id": "WpGJ5upuWc5I",
        "outputId": "0165ab35-3e62-4f06-cb62-a4f3bacc0496"
      },
      "source": [
        "ClientesIndice.query(\"Indice == '0.019'\")"
      ],
      "execution_count": 56,
      "outputs": [
        {
          "output_type": "execute_result",
          "data": {
            "text/html": [
              "<div>\n",
              "<style scoped>\n",
              "    .dataframe tbody tr th:only-of-type {\n",
              "        vertical-align: middle;\n",
              "    }\n",
              "\n",
              "    .dataframe tbody tr th {\n",
              "        vertical-align: top;\n",
              "    }\n",
              "\n",
              "    .dataframe thead th {\n",
              "        text-align: right;\n",
              "    }\n",
              "</style>\n",
              "<table border=\"1\" class=\"dataframe\">\n",
              "  <thead>\n",
              "    <tr style=\"text-align: right;\">\n",
              "      <th></th>\n",
              "      <th>qInd</th>\n",
              "      <th>age</th>\n",
              "      <th>TCBCID</th>\n",
              "      <th>TCBCI</th>\n",
              "      <th>Indice</th>\n",
              "    </tr>\n",
              "  </thead>\n",
              "  <tbody>\n",
              "    <tr>\n",
              "      <th>43</th>\n",
              "      <td>1q</td>\n",
              "      <td>64</td>\n",
              "      <td>1</td>\n",
              "      <td>5130</td>\n",
              "      <td>0.019</td>\n",
              "    </tr>\n",
              "    <tr>\n",
              "      <th>44</th>\n",
              "      <td>1q</td>\n",
              "      <td>65</td>\n",
              "      <td>1</td>\n",
              "      <td>5130</td>\n",
              "      <td>0.019</td>\n",
              "    </tr>\n",
              "    <tr>\n",
              "      <th>45</th>\n",
              "      <td>1q</td>\n",
              "      <td>66</td>\n",
              "      <td>1</td>\n",
              "      <td>5130</td>\n",
              "      <td>0.019</td>\n",
              "    </tr>\n",
              "    <tr>\n",
              "      <th>46</th>\n",
              "      <td>1q</td>\n",
              "      <td>71</td>\n",
              "      <td>1</td>\n",
              "      <td>5130</td>\n",
              "      <td>0.019</td>\n",
              "    </tr>\n",
              "  </tbody>\n",
              "</table>\n",
              "</div>"
            ],
            "text/plain": [
              "   qInd  age  TCBCID  TCBCI  Indice\n",
              "43   1q   64       1   5130   0.019\n",
              "44   1q   65       1   5130   0.019\n",
              "45   1q   66       1   5130   0.019\n",
              "46   1q   71       1   5130   0.019"
            ]
          },
          "metadata": {
            "tags": []
          },
          "execution_count": 56
        }
      ]
    },
    {
      "cell_type": "code",
      "metadata": {
        "colab": {
          "base_uri": "https://localhost:8080/",
          "height": 542
        },
        "id": "4PVcvda4ySaC",
        "outputId": "023a645a-01c4-433e-a01e-b032dac83679"
      },
      "source": [
        "fig = px.scatter(ClientesIndice, \n",
        "                 x=\"age\", \n",
        "                 y=\"Indice\", \n",
        "                 color=\"qInd\",\n",
        "                 title=\"Prestamos por Cuartil por edad\")\n",
        "fig.show()"
      ],
      "execution_count": 59,
      "outputs": [
        {
          "output_type": "display_data",
          "data": {
            "text/html": [
              "<html>\n",
              "<head><meta charset=\"utf-8\" /></head>\n",
              "<body>\n",
              "    <div>\n",
              "            <script src=\"https://cdnjs.cloudflare.com/ajax/libs/mathjax/2.7.5/MathJax.js?config=TeX-AMS-MML_SVG\"></script><script type=\"text/javascript\">if (window.MathJax) {MathJax.Hub.Config({SVG: {font: \"STIX-Web\"}});}</script>\n",
              "                <script type=\"text/javascript\">window.PlotlyConfig = {MathJaxConfig: 'local'};</script>\n",
              "        <script src=\"https://cdn.plot.ly/plotly-latest.min.js\"></script>    \n",
              "            <div id=\"6b435df9-56a9-4bec-9495-315e19fbeca2\" class=\"plotly-graph-div\" style=\"height:525px; width:100%;\"></div>\n",
              "            <script type=\"text/javascript\">\n",
              "                \n",
              "                    window.PLOTLYENV=window.PLOTLYENV || {};\n",
              "                    \n",
              "                if (document.getElementById(\"6b435df9-56a9-4bec-9495-315e19fbeca2\")) {\n",
              "                    Plotly.newPlot(\n",
              "                        '6b435df9-56a9-4bec-9495-315e19fbeca2',\n",
              "                        [{\"hoverlabel\": {\"namelength\": 0}, \"hovertemplate\": \"qInd=1q<br>age=%{x}<br>Indice=%{y}\", \"legendgroup\": \"qInd=1q\", \"marker\": {\"color\": \"#636efa\", \"symbol\": \"circle\"}, \"mode\": \"markers\", \"name\": \"qInd=1q\", \"showlegend\": true, \"type\": \"scatter\", \"x\": [20, 21, 22, 23, 24, 25, 26, 27, 28, 29, 30, 31, 32, 33, 34, 35, 36, 37, 38, 39, 40, 41, 42, 43, 44, 45, 46, 47, 48, 49, 50, 51, 52, 53, 54, 55, 56, 57, 58, 59, 60, 61, 62, 64, 65, 66, 71, 72], \"xaxis\": \"x\", \"y\": [0.058, 0.156, 0.175, 0.253, 0.487, 1.657, 2.32, 2.593, 2.788, 2.71, 3.957, 3.977, 4.405, 4.152, 3.84, 4.444, 3.177, 3.314, 2.515, 2.827, 2.69, 2.904, 2.398, 2.456, 2.632, 3.021, 2.651, 2.807, 2.729, 2.281, 2.222, 2.612, 2.924, 2.183, 1.988, 1.852, 2.339, 1.91, 1.637, 2.359, 1.267, 0.175, 0.039, 0.019, 0.019, 0.019, 0.019, 0.039], \"yaxis\": \"y\"}, {\"hoverlabel\": {\"namelength\": 0}, \"hovertemplate\": \"qInd=2q<br>age=%{x}<br>Indice=%{y}\", \"legendgroup\": \"qInd=2q\", \"marker\": {\"color\": \"#EF553B\", \"symbol\": \"circle\"}, \"mode\": \"markers\", \"name\": \"qInd=2q\", \"showlegend\": true, \"type\": \"scatter\", \"x\": [22, 23, 24, 25, 26, 27, 28, 29, 30, 31, 32, 33, 34, 35, 36, 37, 38, 39, 40, 41, 42, 43, 44, 45, 46, 47, 48, 49, 50, 51, 52, 53, 54, 55, 56, 57, 58, 59, 60, 61, 62], \"xaxis\": \"x\", \"y\": [0.154, 0.308, 0.667, 0.564, 2.154, 1.641, 2.154, 2.821, 4.103, 4.41, 4.769, 4.513, 4.564, 4.41, 4.615, 4.0, 3.487, 4.103, 4.359, 2.974, 2.718, 2.769, 2.872, 2.769, 2.564, 3.231, 2.308, 2.564, 2.0, 2.154, 2.0, 1.59, 1.949, 1.846, 1.692, 1.282, 1.077, 0.923, 0.769, 0.103, 0.051], \"yaxis\": \"y\"}, {\"hoverlabel\": {\"namelength\": 0}, \"hovertemplate\": \"qInd=3q<br>age=%{x}<br>Indice=%{y}\", \"legendgroup\": \"qInd=3q\", \"marker\": {\"color\": \"#00cc96\", \"symbol\": \"circle\"}, \"mode\": \"markers\", \"name\": \"qInd=3q\", \"showlegend\": true, \"type\": \"scatter\", \"x\": [25, 27, 28, 29, 30, 31, 32, 33, 34, 35, 36, 37, 38, 39, 40, 41, 42, 43, 44, 45, 46, 48, 49, 50, 51, 52, 53, 54, 55, 56, 57, 58, 59, 60], \"xaxis\": \"x\", \"y\": [1.829, 1.22, 1.22, 1.829, 3.049, 3.049, 9.756, 3.659, 5.488, 2.439, 4.268, 6.707, 1.22, 2.439, 4.268, 4.268, 0.61, 0.61, 5.488, 2.439, 3.049, 1.829, 2.439, 3.659, 3.049, 3.049, 3.659, 4.268, 2.439, 1.829, 2.439, 0.61, 0.61, 1.22], \"yaxis\": \"y\"}],\n",
              "                        {\"legend\": {\"tracegroupgap\": 0}, \"template\": {\"data\": {\"bar\": [{\"error_x\": {\"color\": \"#2a3f5f\"}, \"error_y\": {\"color\": \"#2a3f5f\"}, \"marker\": {\"line\": {\"color\": \"#E5ECF6\", \"width\": 0.5}}, \"type\": \"bar\"}], \"barpolar\": [{\"marker\": {\"line\": {\"color\": \"#E5ECF6\", \"width\": 0.5}}, \"type\": \"barpolar\"}], \"carpet\": [{\"aaxis\": {\"endlinecolor\": \"#2a3f5f\", \"gridcolor\": \"white\", \"linecolor\": \"white\", \"minorgridcolor\": \"white\", \"startlinecolor\": \"#2a3f5f\"}, \"baxis\": {\"endlinecolor\": \"#2a3f5f\", \"gridcolor\": \"white\", \"linecolor\": \"white\", \"minorgridcolor\": \"white\", \"startlinecolor\": \"#2a3f5f\"}, \"type\": \"carpet\"}], \"choropleth\": [{\"colorbar\": {\"outlinewidth\": 0, \"ticks\": \"\"}, \"type\": \"choropleth\"}], \"contour\": [{\"colorbar\": {\"outlinewidth\": 0, \"ticks\": \"\"}, \"colorscale\": [[0.0, \"#0d0887\"], [0.1111111111111111, \"#46039f\"], [0.2222222222222222, \"#7201a8\"], [0.3333333333333333, \"#9c179e\"], [0.4444444444444444, \"#bd3786\"], [0.5555555555555556, \"#d8576b\"], [0.6666666666666666, \"#ed7953\"], [0.7777777777777778, \"#fb9f3a\"], [0.8888888888888888, \"#fdca26\"], [1.0, \"#f0f921\"]], \"type\": \"contour\"}], \"contourcarpet\": [{\"colorbar\": {\"outlinewidth\": 0, \"ticks\": \"\"}, \"type\": \"contourcarpet\"}], \"heatmap\": [{\"colorbar\": {\"outlinewidth\": 0, \"ticks\": \"\"}, \"colorscale\": [[0.0, \"#0d0887\"], [0.1111111111111111, \"#46039f\"], [0.2222222222222222, \"#7201a8\"], [0.3333333333333333, \"#9c179e\"], [0.4444444444444444, \"#bd3786\"], [0.5555555555555556, \"#d8576b\"], [0.6666666666666666, \"#ed7953\"], [0.7777777777777778, \"#fb9f3a\"], [0.8888888888888888, \"#fdca26\"], [1.0, \"#f0f921\"]], \"type\": \"heatmap\"}], \"heatmapgl\": [{\"colorbar\": {\"outlinewidth\": 0, \"ticks\": \"\"}, \"colorscale\": [[0.0, \"#0d0887\"], [0.1111111111111111, \"#46039f\"], [0.2222222222222222, \"#7201a8\"], [0.3333333333333333, \"#9c179e\"], [0.4444444444444444, \"#bd3786\"], [0.5555555555555556, \"#d8576b\"], [0.6666666666666666, \"#ed7953\"], [0.7777777777777778, \"#fb9f3a\"], [0.8888888888888888, \"#fdca26\"], [1.0, \"#f0f921\"]], \"type\": \"heatmapgl\"}], \"histogram\": [{\"marker\": {\"colorbar\": {\"outlinewidth\": 0, \"ticks\": \"\"}}, \"type\": \"histogram\"}], \"histogram2d\": [{\"colorbar\": {\"outlinewidth\": 0, \"ticks\": \"\"}, \"colorscale\": [[0.0, \"#0d0887\"], [0.1111111111111111, \"#46039f\"], [0.2222222222222222, \"#7201a8\"], [0.3333333333333333, \"#9c179e\"], [0.4444444444444444, \"#bd3786\"], [0.5555555555555556, \"#d8576b\"], [0.6666666666666666, \"#ed7953\"], [0.7777777777777778, \"#fb9f3a\"], [0.8888888888888888, \"#fdca26\"], [1.0, \"#f0f921\"]], \"type\": \"histogram2d\"}], \"histogram2dcontour\": [{\"colorbar\": {\"outlinewidth\": 0, \"ticks\": \"\"}, \"colorscale\": [[0.0, \"#0d0887\"], [0.1111111111111111, \"#46039f\"], [0.2222222222222222, \"#7201a8\"], [0.3333333333333333, \"#9c179e\"], [0.4444444444444444, \"#bd3786\"], [0.5555555555555556, \"#d8576b\"], [0.6666666666666666, \"#ed7953\"], [0.7777777777777778, \"#fb9f3a\"], [0.8888888888888888, \"#fdca26\"], [1.0, \"#f0f921\"]], \"type\": \"histogram2dcontour\"}], \"mesh3d\": [{\"colorbar\": {\"outlinewidth\": 0, \"ticks\": \"\"}, \"type\": \"mesh3d\"}], \"parcoords\": [{\"line\": {\"colorbar\": {\"outlinewidth\": 0, \"ticks\": \"\"}}, \"type\": \"parcoords\"}], \"pie\": [{\"automargin\": true, \"type\": \"pie\"}], \"scatter\": [{\"marker\": {\"colorbar\": {\"outlinewidth\": 0, \"ticks\": \"\"}}, \"type\": \"scatter\"}], \"scatter3d\": [{\"line\": {\"colorbar\": {\"outlinewidth\": 0, \"ticks\": \"\"}}, \"marker\": {\"colorbar\": {\"outlinewidth\": 0, \"ticks\": \"\"}}, \"type\": \"scatter3d\"}], \"scattercarpet\": [{\"marker\": {\"colorbar\": {\"outlinewidth\": 0, \"ticks\": \"\"}}, \"type\": \"scattercarpet\"}], \"scattergeo\": [{\"marker\": {\"colorbar\": {\"outlinewidth\": 0, \"ticks\": \"\"}}, \"type\": \"scattergeo\"}], \"scattergl\": [{\"marker\": {\"colorbar\": {\"outlinewidth\": 0, \"ticks\": \"\"}}, \"type\": \"scattergl\"}], \"scattermapbox\": [{\"marker\": {\"colorbar\": {\"outlinewidth\": 0, \"ticks\": \"\"}}, \"type\": \"scattermapbox\"}], \"scatterpolar\": [{\"marker\": {\"colorbar\": {\"outlinewidth\": 0, \"ticks\": \"\"}}, \"type\": \"scatterpolar\"}], \"scatterpolargl\": [{\"marker\": {\"colorbar\": {\"outlinewidth\": 0, \"ticks\": \"\"}}, \"type\": \"scatterpolargl\"}], \"scatterternary\": [{\"marker\": {\"colorbar\": {\"outlinewidth\": 0, \"ticks\": \"\"}}, \"type\": \"scatterternary\"}], \"surface\": [{\"colorbar\": {\"outlinewidth\": 0, \"ticks\": \"\"}, \"colorscale\": [[0.0, \"#0d0887\"], [0.1111111111111111, \"#46039f\"], [0.2222222222222222, \"#7201a8\"], [0.3333333333333333, \"#9c179e\"], [0.4444444444444444, \"#bd3786\"], [0.5555555555555556, \"#d8576b\"], [0.6666666666666666, \"#ed7953\"], [0.7777777777777778, \"#fb9f3a\"], [0.8888888888888888, \"#fdca26\"], [1.0, \"#f0f921\"]], \"type\": \"surface\"}], \"table\": [{\"cells\": {\"fill\": {\"color\": \"#EBF0F8\"}, \"line\": {\"color\": \"white\"}}, \"header\": {\"fill\": {\"color\": \"#C8D4E3\"}, \"line\": {\"color\": \"white\"}}, \"type\": \"table\"}]}, \"layout\": {\"annotationdefaults\": {\"arrowcolor\": \"#2a3f5f\", \"arrowhead\": 0, \"arrowwidth\": 1}, \"coloraxis\": {\"colorbar\": {\"outlinewidth\": 0, \"ticks\": \"\"}}, \"colorscale\": {\"diverging\": [[0, \"#8e0152\"], [0.1, \"#c51b7d\"], [0.2, \"#de77ae\"], [0.3, \"#f1b6da\"], [0.4, \"#fde0ef\"], [0.5, \"#f7f7f7\"], [0.6, \"#e6f5d0\"], [0.7, \"#b8e186\"], [0.8, \"#7fbc41\"], [0.9, \"#4d9221\"], [1, \"#276419\"]], \"sequential\": [[0.0, \"#0d0887\"], [0.1111111111111111, \"#46039f\"], [0.2222222222222222, \"#7201a8\"], [0.3333333333333333, \"#9c179e\"], [0.4444444444444444, \"#bd3786\"], [0.5555555555555556, \"#d8576b\"], [0.6666666666666666, \"#ed7953\"], [0.7777777777777778, \"#fb9f3a\"], [0.8888888888888888, \"#fdca26\"], [1.0, \"#f0f921\"]], \"sequentialminus\": [[0.0, \"#0d0887\"], [0.1111111111111111, \"#46039f\"], [0.2222222222222222, \"#7201a8\"], [0.3333333333333333, \"#9c179e\"], [0.4444444444444444, \"#bd3786\"], [0.5555555555555556, \"#d8576b\"], [0.6666666666666666, \"#ed7953\"], [0.7777777777777778, \"#fb9f3a\"], [0.8888888888888888, \"#fdca26\"], [1.0, \"#f0f921\"]]}, \"colorway\": [\"#636efa\", \"#EF553B\", \"#00cc96\", \"#ab63fa\", \"#FFA15A\", \"#19d3f3\", \"#FF6692\", \"#B6E880\", \"#FF97FF\", \"#FECB52\"], \"font\": {\"color\": \"#2a3f5f\"}, \"geo\": {\"bgcolor\": \"white\", \"lakecolor\": \"white\", \"landcolor\": \"#E5ECF6\", \"showlakes\": true, \"showland\": true, \"subunitcolor\": \"white\"}, \"hoverlabel\": {\"align\": \"left\"}, \"hovermode\": \"closest\", \"mapbox\": {\"style\": \"light\"}, \"paper_bgcolor\": \"white\", \"plot_bgcolor\": \"#E5ECF6\", \"polar\": {\"angularaxis\": {\"gridcolor\": \"white\", \"linecolor\": \"white\", \"ticks\": \"\"}, \"bgcolor\": \"#E5ECF6\", \"radialaxis\": {\"gridcolor\": \"white\", \"linecolor\": \"white\", \"ticks\": \"\"}}, \"scene\": {\"xaxis\": {\"backgroundcolor\": \"#E5ECF6\", \"gridcolor\": \"white\", \"gridwidth\": 2, \"linecolor\": \"white\", \"showbackground\": true, \"ticks\": \"\", \"zerolinecolor\": \"white\"}, \"yaxis\": {\"backgroundcolor\": \"#E5ECF6\", \"gridcolor\": \"white\", \"gridwidth\": 2, \"linecolor\": \"white\", \"showbackground\": true, \"ticks\": \"\", \"zerolinecolor\": \"white\"}, \"zaxis\": {\"backgroundcolor\": \"#E5ECF6\", \"gridcolor\": \"white\", \"gridwidth\": 2, \"linecolor\": \"white\", \"showbackground\": true, \"ticks\": \"\", \"zerolinecolor\": \"white\"}}, \"shapedefaults\": {\"line\": {\"color\": \"#2a3f5f\"}}, \"ternary\": {\"aaxis\": {\"gridcolor\": \"white\", \"linecolor\": \"white\", \"ticks\": \"\"}, \"baxis\": {\"gridcolor\": \"white\", \"linecolor\": \"white\", \"ticks\": \"\"}, \"bgcolor\": \"#E5ECF6\", \"caxis\": {\"gridcolor\": \"white\", \"linecolor\": \"white\", \"ticks\": \"\"}}, \"title\": {\"x\": 0.05}, \"xaxis\": {\"automargin\": true, \"gridcolor\": \"white\", \"linecolor\": \"white\", \"ticks\": \"\", \"title\": {\"standoff\": 15}, \"zerolinecolor\": \"white\", \"zerolinewidth\": 2}, \"yaxis\": {\"automargin\": true, \"gridcolor\": \"white\", \"linecolor\": \"white\", \"ticks\": \"\", \"title\": {\"standoff\": 15}, \"zerolinecolor\": \"white\", \"zerolinewidth\": 2}}}, \"title\": {\"text\": \"Prestamos por Cuartil por edad\"}, \"xaxis\": {\"anchor\": \"y\", \"domain\": [0.0, 1.0], \"title\": {\"text\": \"age\"}}, \"yaxis\": {\"anchor\": \"x\", \"domain\": [0.0, 1.0], \"title\": {\"text\": \"Indice\"}}},\n",
              "                        {\"responsive\": true}\n",
              "                    ).then(function(){\n",
              "                            \n",
              "var gd = document.getElementById('6b435df9-56a9-4bec-9495-315e19fbeca2');\n",
              "var x = new MutationObserver(function (mutations, observer) {{\n",
              "        var display = window.getComputedStyle(gd).display;\n",
              "        if (!display || display === 'none') {{\n",
              "            console.log([gd, 'removed!']);\n",
              "            Plotly.purge(gd);\n",
              "            observer.disconnect();\n",
              "        }}\n",
              "}});\n",
              "\n",
              "// Listen for the removal of the full notebook cells\n",
              "var notebookContainer = gd.closest('#notebook-container');\n",
              "if (notebookContainer) {{\n",
              "    x.observe(notebookContainer, {childList: true});\n",
              "}}\n",
              "\n",
              "// Listen for the clearing of the current output cell\n",
              "var outputEl = gd.closest('.output');\n",
              "if (outputEl) {{\n",
              "    x.observe(outputEl, {childList: true});\n",
              "}}\n",
              "\n",
              "                        })\n",
              "                };\n",
              "                \n",
              "            </script>\n",
              "        </div>\n",
              "</body>\n",
              "</html>"
            ]
          },
          "metadata": {
            "tags": []
          }
        }
      ]
    }
  ]
}