{
  "nbformat": 4,
  "nbformat_minor": 0,
  "metadata": {
    "colab": {
      "name": "Cadenas_de_Markov_R_Ej01.ipynb",
      "provenance": [],
      "collapsed_sections": [],
      "toc_visible": true,
      "authorship_tag": "ABX9TyP6WEai41KUtLVDVBCNmNFj",
      "include_colab_link": true
    },
    "kernelspec": {
      "name": "ir",
      "display_name": "R"
    },
    "language_info": {
      "name": "R"
    }
  },
  "cells": [
    {
      "cell_type": "markdown",
      "metadata": {
        "id": "view-in-github",
        "colab_type": "text"
      },
      "source": [
        "<a href=\"https://colab.research.google.com/github/cristiandarioortegayubro/Maestria-Ciencia-de-Datos-UBA-FCE/blob/main/Investigacion_Operativa/Cadenas_de_Markov_R_Ej01.ipynb\" target=\"_parent\"><img src=\"https://colab.research.google.com/assets/colab-badge.svg\" alt=\"Open In Colab\"/></a>"
      ]
    },
    {
      "cell_type": "markdown",
      "metadata": {
        "id": "egWr_c74CKmh"
      },
      "source": [
        "<center>\n",
        "\n",
        "![Logo ENAP.png](data:image/png;base64,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)\n",
        "\n",
        "#### Maestría en Métodos Cuantitativos para la Gestión y Análisis de Datos en Organizaciones"
      ]
    },
    {
      "cell_type": "markdown",
      "metadata": {
        "id": "lwPoSqJxCjEt"
      },
      "source": [
        "#### Técnicas de Investigación Operativa para la Gestión - Cadenas de Markov"
      ]
    },
    {
      "cell_type": "markdown",
      "metadata": {
        "id": "6M0IfRjfhdCB"
      },
      "source": [
        "- María José BIANCO\n",
        "- Verónica María GARCIA FRONTI\n",
        "- Roberto Darío BACHINI\n",
        "\n",
        "```\n",
        "Maestrando: Cristian Darío ORTEGA YUBRO\n",
        "```\n"
      ]
    },
    {
      "cell_type": "markdown",
      "metadata": {
        "id": "ZS1tFNvX5QrQ"
      },
      "source": [
        "#### Ejercicio 01 - Frio Calor"
      ]
    },
    {
      "cell_type": "markdown",
      "metadata": {
        "id": "-JAqbEthmbeY"
      },
      "source": [
        "#### Instalando paquetes"
      ]
    },
    {
      "cell_type": "code",
      "metadata": {
        "colab": {
          "base_uri": "https://localhost:8080/"
        },
        "id": "ObCR-q0pkkHu",
        "outputId": "6ae9cc71-e188-40cf-f87f-7b90958543aa"
      },
      "source": [
        "install.packages(\"markovchain\")"
      ],
      "execution_count": 4,
      "outputs": [
        {
          "output_type": "stream",
          "text": [
            "Installing package into ‘/usr/local/lib/R/site-library’\n",
            "(as ‘lib’ is unspecified)\n",
            "\n"
          ],
          "name": "stderr"
        }
      ]
    },
    {
      "cell_type": "code",
      "metadata": {
        "colab": {
          "base_uri": "https://localhost:8080/"
        },
        "id": "XV6h2VqPlFt2",
        "outputId": "0a2ccc27-205b-44b1-ef6a-4eccb6ca5cd7"
      },
      "source": [
        "install.packages(\"diagram\")"
      ],
      "execution_count": 2,
      "outputs": [
        {
          "output_type": "stream",
          "text": [
            "Installing package into ‘/usr/local/lib/R/site-library’\n",
            "(as ‘lib’ is unspecified)\n",
            "\n",
            "also installing the dependency ‘shape’\n",
            "\n",
            "\n"
          ],
          "name": "stderr"
        }
      ]
    },
    {
      "cell_type": "markdown",
      "metadata": {
        "id": "y0fz5ejYmfWJ"
      },
      "source": [
        "#### Habilitando librerias"
      ]
    },
    {
      "cell_type": "code",
      "metadata": {
        "id": "kiYElatjhxVP"
      },
      "source": [
        "library(markovchain)\n",
        "library(shape)\n",
        "library(diagram)"
      ],
      "execution_count": 5,
      "outputs": []
    },
    {
      "cell_type": "markdown",
      "metadata": {
        "id": "6vMaeVBZB3ui"
      },
      "source": [
        "Sea un modelo simple para predecir el tiempo el cual a partir de si hace calor o frío hoy se estima con qué probabilidad hará calor o frío mañana"
      ]
    },
    {
      "cell_type": "code",
      "metadata": {
        "id": "CgwkDBgFmtw3"
      },
      "source": [
        "estados <- c(\"Calor\", \"Frio\")\n",
        "MatrizTiempo <- matrix(c(0.60,0.40,\n",
        "                        0.30,0.70),\n",
        "                        byrow = T, ncol=2)"
      ],
      "execution_count": 9,
      "outputs": []
    },
    {
      "cell_type": "code",
      "metadata": {
        "id": "UdH1QmUZnVJH"
      },
      "source": [
        "colnames(MatrizTiempo)=rownames(MatrizTiempo)=estados"
      ],
      "execution_count": 10,
      "outputs": []
    },
    {
      "cell_type": "markdown",
      "metadata": {
        "id": "KH2q0B20BmCc"
      },
      "source": [
        "Luego la matriz de transición es $P=\\begin{pmatrix} 0.6 & 0.4 \\\\ 0.3 & 0.7\\end{pmatrix} $ y se puede modelar con una cadena de Markov de dos estados..."
      ]
    },
    {
      "cell_type": "markdown",
      "metadata": {
        "id": "ZHKYpHBTn3-D"
      },
      "source": [
        "#### Matriz de Transición"
      ]
    },
    {
      "cell_type": "code",
      "metadata": {
        "colab": {
          "base_uri": "https://localhost:8080/",
          "height": 145
        },
        "id": "WIjirIYEngrg",
        "outputId": "8a3a781a-98a3-474f-e1b5-7fa6dc4ba75e"
      },
      "source": [
        "MatrizTiempo"
      ],
      "execution_count": 11,
      "outputs": [
        {
          "output_type": "display_data",
          "data": {
            "text/plain": [
              "      Calor Frio\n",
              "Calor 0.6   0.4 \n",
              "Frio  0.3   0.7 "
            ],
            "text/latex": "A matrix: 2 × 2 of type dbl\n\\begin{tabular}{r|ll}\n  & Calor & Frio\\\\\n\\hline\n\tCalor & 0.6 & 0.4\\\\\n\tFrio & 0.3 & 0.7\\\\\n\\end{tabular}\n",
            "text/markdown": "\nA matrix: 2 × 2 of type dbl\n\n| <!--/--> | Calor | Frio |\n|---|---|---|\n| Calor | 0.6 | 0.4 |\n| Frio | 0.3 | 0.7 |\n\n",
            "text/html": [
              "<table class=\"dataframe\">\n",
              "<caption>A matrix: 2 × 2 of type dbl</caption>\n",
              "<thead>\n",
              "\t<tr><th></th><th scope=col>Calor</th><th scope=col>Frio</th></tr>\n",
              "</thead>\n",
              "<tbody>\n",
              "\t<tr><th scope=row>Calor</th><td>0.6</td><td>0.4</td></tr>\n",
              "\t<tr><th scope=row>Frio</th><td>0.3</td><td>0.7</td></tr>\n",
              "</tbody>\n",
              "</table>\n"
            ]
          },
          "metadata": {
            "tags": []
          }
        }
      ]
    },
    {
      "cell_type": "markdown",
      "metadata": {
        "id": "roHWfCozoRQ7"
      },
      "source": [
        "#### Objeto Markovchain"
      ]
    },
    {
      "cell_type": "code",
      "metadata": {
        "colab": {
          "base_uri": "https://localhost:8080/",
          "height": 136
        },
        "id": "RD7WyUj4DoK3",
        "outputId": "812357f8-3bea-42a1-cee0-8f4e56f31117"
      },
      "source": [
        "FrioCalor <- new(\"markovchain\", transitionMatrix = MatrizTiempo)\n",
        "FrioCalor"
      ],
      "execution_count": 76,
      "outputs": [
        {
          "output_type": "display_data",
          "data": {
            "text/plain": [
              "Unnamed Markov chain \n",
              " A  2 - dimensional discrete Markov Chain defined by the following states: \n",
              " Calor, Frio \n",
              " The transition matrix  (by rows)  is defined as follows: \n",
              "      Calor Frio\n",
              "Calor   0.6  0.4\n",
              "Frio    0.3  0.7\n"
            ]
          },
          "metadata": {
            "tags": []
          }
        }
      ]
    },
    {
      "cell_type": "markdown",
      "metadata": {
        "id": "zJtX5QjHo2lz"
      },
      "source": [
        "#### Diagrama de Transición"
      ]
    },
    {
      "cell_type": "code",
      "metadata": {
        "colab": {
          "base_uri": "https://localhost:8080/",
          "height": 437
        },
        "id": "lUurG6-ppMR7",
        "outputId": "50ce3af6-d1fd-4f87-b146-aa5568654486"
      },
      "source": [
        "plotmat(t(FrioCalor@transitionMatrix),\n",
        "        box.type = \"circle\", shadow.size = 0, txt.col = \"black\", txt.font = 4,\n",
        "        box.lwd = 1.75, box.size = 0.08, box.col = \"darkorange\", box.cex = 1.1,\n",
        "        arr.col = \"black\", arr.width = 0.3, arr.length = 0.4,\n",
        "        arr.type =\"triangle\", arr.lwd = 1.2, arr.lcol = \"black\",\n",
        "        cex.txt = 1.2, curve = 0.09,\n",
        "        self.cex = 0.9,\n",
        "        self.shiftx = c(0.12, 0.12),\n",
        "        self.shifty = c(+0.00, +0.00),\n",
        "        self.arrpos = c(1.5*pi, 1.5*pi, 0.5*pi),\n",
        "        main = \"Diagrama de Transición: Frio Calor\", cex = 1.3)"
      ],
      "execution_count": 73,
      "outputs": [
        {
          "output_type": "display_data",
          "data": {
            "image/png": "[encoded data removed]",
            "text/plain": [
              "Plot with title “Diagrama de Transición: Frio Calor”"
            ]
          },
          "metadata": {
            "tags": [],
            "image/png": {
              "width": 420,
              "height": 420
            }
          }
        }
      ]
    },
    {
      "cell_type": "markdown",
      "metadata": {
        "id": "LwS7HyplqbZJ"
      },
      "source": [
        "#### Evolución en el tiempo de una cadena de Markov"
      ]
    },
    {
      "cell_type": "markdown",
      "metadata": {
        "id": "KyX0iSL0EbMK"
      },
      "source": [
        "Como se ha visto, la matriz de transiciones $P$ define la probabilidad de que la cadena pase del estado $s_i$ a otro estado $s_j$ en una unidad de tiempo."
      ]
    },
    {
      "cell_type": "markdown",
      "metadata": {
        "id": "jv8skxBJEwIE"
      },
      "source": [
        "$$P_{i,j}=P(\\frac{X_{n+1}=s_j}{X_n=s_i})$$"
      ]
    },
    {
      "cell_type": "markdown",
      "metadata": {
        "id": "a7sOmejxJbUs"
      },
      "source": [
        "Para realizar predicciones sobre el comportamiento de un sistema basta con calcular probabilidades condicionadas entre un instante $n$ y el siguiente $n+1$. Por ejemplo, la probabilidad de estar en $s_j$ en $n+2$ si se parte de $s_i$ en $n$ se puede expresar como:"
      ]
    },
    {
      "cell_type": "markdown",
      "metadata": {
        "id": "dZPCEeZNKWJB"
      },
      "source": [
        "$$P_{i,j}^{(2)}=P(\\frac{X_{n+2}=s_j}{X_n=s_i})=\\displaystyle\\sum_{s_k} P_{kj} P_{ik} $$"
      ]
    },
    {
      "cell_type": "markdown",
      "metadata": {
        "id": "XnYgjc9PLnyF"
      },
      "source": [
        "#### Ejercicio 02 - Frio Calor"
      ]
    },
    {
      "cell_type": "markdown",
      "metadata": {
        "id": "BFWqohrTLvd7"
      },
      "source": [
        "Sabiendo que hoy hace calor ¿Cómo se calcularía la probabilidad de que haga calor pasado mañana?"
      ]
    },
    {
      "cell_type": "markdown",
      "metadata": {
        "id": "YvYxIWvCNKA9"
      },
      "source": [
        "Es decir, esta información se puede resumir en la matriz de transición de dos pasos de la siguiente manera $P^{(2)}=P.P=P^2$"
      ]
    },
    {
      "cell_type": "markdown",
      "metadata": {
        "id": "XeZaCFDEMtyf"
      },
      "source": [
        "#### Matriz de transición de dos pasos"
      ]
    },
    {
      "cell_type": "code",
      "metadata": {
        "colab": {
          "base_uri": "https://localhost:8080/",
          "height": 136
        },
        "id": "7CRcvOxvMOAD",
        "outputId": "3e284fd3-ad3b-4cab-ac51-3309f4ac30c4"
      },
      "source": [
        "(PasadoMañana = FrioCalor^2)"
      ],
      "execution_count": 78,
      "outputs": [
        {
          "output_type": "display_data",
          "data": {
            "text/plain": [
              "Unnamed Markov chain^2 \n",
              " A  2 - dimensional discrete Markov Chain defined by the following states: \n",
              " Calor, Frio \n",
              " The transition matrix  (by rows)  is defined as follows: \n",
              "      Calor Frio\n",
              "Calor  0.48 0.52\n",
              "Frio   0.39 0.61\n"
            ]
          },
          "metadata": {
            "tags": []
          }
        }
      ]
    },
    {
      "cell_type": "markdown",
      "metadata": {
        "id": "kktzAnKxOitV"
      },
      "source": [
        "Entonces la probabilidad de que pasado mañana haga calor sabiendo que hoy hace calor según la matriz de transición en dos pasos es 0.48. Es decir $P=0.48$"
      ]
    },
    {
      "cell_type": "markdown",
      "metadata": {
        "id": "-hFxdVucPDQk"
      },
      "source": [
        "#### Ejercicio 03 - Frio Calor"
      ]
    },
    {
      "cell_type": "markdown",
      "metadata": {
        "id": "PkK7uJS9PIlT"
      },
      "source": [
        "Sabiendo que hoy hace calor ¿Cómo se calcularía la probabilidad de que haga frío pasado mañana?"
      ]
    },
    {
      "cell_type": "markdown",
      "metadata": {
        "id": "4U_bTdy3PPuL"
      },
      "source": [
        "La probabilidad de que pasado mañana haga frio sabiendo que hoy hace calor según la matriz de transición en dos pasos es 0.52. Es decir $1-P=0.52$"
      ]
    },
    {
      "cell_type": "markdown",
      "metadata": {
        "id": "ebDHEsbFP8Rq"
      },
      "source": [
        "Generalizando, la probabilidad de estar en $s_j$ en $n+h$ si se parte de $s_i$ en $h$ se denomina la probabilidad de transición de $n$ pasos y se expresa como:"
      ]
    },
    {
      "cell_type": "markdown",
      "metadata": {
        "id": "WlNXrbBFQYeV"
      },
      "source": [
        "$$P_{i,j}^{(n)}=P(\\frac{X_{n+h}=s_j}{X_h=s_i})=\\displaystyle\\sum_{s_k} P_{kj} P_{ik}^{n-1} =(P^n)_{ij} $$"
      ]
    },
    {
      "cell_type": "markdown",
      "metadata": {
        "id": "eUttz28sQ9c2"
      },
      "source": [
        "La expresión anterior se conoce como la ecuación de Chapman- Kolmogorov"
      ]
    }
  ]
}